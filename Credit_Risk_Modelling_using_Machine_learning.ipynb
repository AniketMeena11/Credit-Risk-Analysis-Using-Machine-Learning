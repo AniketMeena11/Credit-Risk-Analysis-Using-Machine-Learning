{
  "cells": [
    {
      "cell_type": "markdown",
      "metadata": {},
      "source": [
        "# Credit Risk Modelling Using Machine Learning \n",
        "\n"
      ]
    },
    {
      "cell_type": "markdown",
      "metadata": {
        "id": "iWHwXaomwqUe"
      },
      "source": [
        "> Problem Statement : \n",
        "\n",
        "> we have customers data  we are trying to predict whether or not give a loan"
      ]
    },
    {
      "cell_type": "code",
      "execution_count": 73,
      "metadata": {
        "id": "QzbX2kXY3DZI"
      },
      "outputs": [],
      "source": [
        "# Import necessary libraries\n",
        "\n",
        "import numpy as np\n",
        "import pandas as pd\n",
        "import matplotlib.pyplot as plt\n",
        "from sklearn.metrics import r2_score\n",
        "from scipy.stats import chi2_contingency\n",
        "from statsmodels.stats.outliers_influence import variance_inflation_factor\n",
        "from sklearn.model_selection import train_test_split\n",
        "from sklearn.ensemble import RandomForestClassifier\n",
        "from sklearn.metrics import accuracy_score, classification_report, precision_recall_fscore_support\n",
        "import warnings\n",
        "import os\n",
        "import time"
      ]
    },
    {
      "cell_type": "code",
      "execution_count": 74,
      "metadata": {
        "colab": {
          "base_uri": "https://localhost:8080/"
        },
        "id": "3a9zS391FZRC",
        "outputId": "e0119856-5496-482c-a3af-89a00f5a7daa"
      },
      "outputs": [
        {
          "name": "stdout",
          "output_type": "stream",
          "text": [
            "Program is running ...\n",
            "\n"
          ]
        }
      ],
      "source": [
        "print(\"Program is running ...\")\n",
        "\n",
        "print()\n",
        "start_time = time.time()\n",
        "\n"
      ]
    },
    {
      "cell_type": "code",
      "execution_count": 75,
      "metadata": {
        "id": "oCg7Lj7A3DKM"
      },
      "outputs": [],
      "source": [
        "# Load the dataset\n",
        "\n",
        "a1 = pd.read_excel(\"C:/Users/HP/Desktop/Data Engineering/Credit_Risk_Modelling_Using ML/case_study1.xlsx\")\n",
        "a2 = pd.read_excel(\"C:/Users/HP/Desktop/Data Engineering/Credit_Risk_Modelling_Using ML/case_study2.xlsx\")"
      ]
    },
    {
      "cell_type": "code",
      "execution_count": 76,
      "metadata": {
        "colab": {
          "base_uri": "https://localhost:8080/",
          "height": 443
        },
        "id": "pkZkSFq0wlUd",
        "outputId": "7c3e550c-904f-4af9-d297-aee197858549"
      },
      "outputs": [
        {
          "data": {
            "text/html": [
              "<div>\n",
              "<style scoped>\n",
              "    .dataframe tbody tr th:only-of-type {\n",
              "        vertical-align: middle;\n",
              "    }\n",
              "\n",
              "    .dataframe tbody tr th {\n",
              "        vertical-align: top;\n",
              "    }\n",
              "\n",
              "    .dataframe thead th {\n",
              "        text-align: right;\n",
              "    }\n",
              "</style>\n",
              "<table border=\"1\" class=\"dataframe\">\n",
              "  <thead>\n",
              "    <tr style=\"text-align: right;\">\n",
              "      <th></th>\n",
              "      <th>PROSPECTID</th>\n",
              "      <th>Total_TL</th>\n",
              "      <th>Tot_Closed_TL</th>\n",
              "      <th>Tot_Active_TL</th>\n",
              "      <th>Total_TL_opened_L6M</th>\n",
              "      <th>Tot_TL_closed_L6M</th>\n",
              "      <th>pct_tl_open_L6M</th>\n",
              "      <th>pct_tl_closed_L6M</th>\n",
              "      <th>pct_active_tl</th>\n",
              "      <th>pct_closed_tl</th>\n",
              "      <th>...</th>\n",
              "      <th>CC_TL</th>\n",
              "      <th>Consumer_TL</th>\n",
              "      <th>Gold_TL</th>\n",
              "      <th>Home_TL</th>\n",
              "      <th>PL_TL</th>\n",
              "      <th>Secured_TL</th>\n",
              "      <th>Unsecured_TL</th>\n",
              "      <th>Other_TL</th>\n",
              "      <th>Age_Oldest_TL</th>\n",
              "      <th>Age_Newest_TL</th>\n",
              "    </tr>\n",
              "  </thead>\n",
              "  <tbody>\n",
              "    <tr>\n",
              "      <th>0</th>\n",
              "      <td>1</td>\n",
              "      <td>5</td>\n",
              "      <td>4</td>\n",
              "      <td>1</td>\n",
              "      <td>0</td>\n",
              "      <td>0</td>\n",
              "      <td>0.000</td>\n",
              "      <td>0.00</td>\n",
              "      <td>0.200</td>\n",
              "      <td>0.800</td>\n",
              "      <td>...</td>\n",
              "      <td>0</td>\n",
              "      <td>0</td>\n",
              "      <td>1</td>\n",
              "      <td>0</td>\n",
              "      <td>4</td>\n",
              "      <td>1</td>\n",
              "      <td>4</td>\n",
              "      <td>0</td>\n",
              "      <td>72</td>\n",
              "      <td>18</td>\n",
              "    </tr>\n",
              "    <tr>\n",
              "      <th>1</th>\n",
              "      <td>2</td>\n",
              "      <td>1</td>\n",
              "      <td>0</td>\n",
              "      <td>1</td>\n",
              "      <td>0</td>\n",
              "      <td>0</td>\n",
              "      <td>0.000</td>\n",
              "      <td>0.00</td>\n",
              "      <td>1.000</td>\n",
              "      <td>0.000</td>\n",
              "      <td>...</td>\n",
              "      <td>0</td>\n",
              "      <td>1</td>\n",
              "      <td>0</td>\n",
              "      <td>0</td>\n",
              "      <td>0</td>\n",
              "      <td>0</td>\n",
              "      <td>1</td>\n",
              "      <td>0</td>\n",
              "      <td>7</td>\n",
              "      <td>7</td>\n",
              "    </tr>\n",
              "    <tr>\n",
              "      <th>2</th>\n",
              "      <td>3</td>\n",
              "      <td>8</td>\n",
              "      <td>0</td>\n",
              "      <td>8</td>\n",
              "      <td>1</td>\n",
              "      <td>0</td>\n",
              "      <td>0.125</td>\n",
              "      <td>0.00</td>\n",
              "      <td>1.000</td>\n",
              "      <td>0.000</td>\n",
              "      <td>...</td>\n",
              "      <td>0</td>\n",
              "      <td>6</td>\n",
              "      <td>1</td>\n",
              "      <td>0</td>\n",
              "      <td>0</td>\n",
              "      <td>2</td>\n",
              "      <td>6</td>\n",
              "      <td>0</td>\n",
              "      <td>47</td>\n",
              "      <td>2</td>\n",
              "    </tr>\n",
              "    <tr>\n",
              "      <th>3</th>\n",
              "      <td>4</td>\n",
              "      <td>1</td>\n",
              "      <td>0</td>\n",
              "      <td>1</td>\n",
              "      <td>1</td>\n",
              "      <td>0</td>\n",
              "      <td>1.000</td>\n",
              "      <td>0.00</td>\n",
              "      <td>1.000</td>\n",
              "      <td>0.000</td>\n",
              "      <td>...</td>\n",
              "      <td>0</td>\n",
              "      <td>0</td>\n",
              "      <td>0</td>\n",
              "      <td>0</td>\n",
              "      <td>0</td>\n",
              "      <td>0</td>\n",
              "      <td>1</td>\n",
              "      <td>1</td>\n",
              "      <td>5</td>\n",
              "      <td>5</td>\n",
              "    </tr>\n",
              "    <tr>\n",
              "      <th>4</th>\n",
              "      <td>5</td>\n",
              "      <td>3</td>\n",
              "      <td>2</td>\n",
              "      <td>1</td>\n",
              "      <td>0</td>\n",
              "      <td>0</td>\n",
              "      <td>0.000</td>\n",
              "      <td>0.00</td>\n",
              "      <td>0.333</td>\n",
              "      <td>0.667</td>\n",
              "      <td>...</td>\n",
              "      <td>0</td>\n",
              "      <td>0</td>\n",
              "      <td>0</td>\n",
              "      <td>0</td>\n",
              "      <td>0</td>\n",
              "      <td>3</td>\n",
              "      <td>0</td>\n",
              "      <td>2</td>\n",
              "      <td>131</td>\n",
              "      <td>32</td>\n",
              "    </tr>\n",
              "    <tr>\n",
              "      <th>...</th>\n",
              "      <td>...</td>\n",
              "      <td>...</td>\n",
              "      <td>...</td>\n",
              "      <td>...</td>\n",
              "      <td>...</td>\n",
              "      <td>...</td>\n",
              "      <td>...</td>\n",
              "      <td>...</td>\n",
              "      <td>...</td>\n",
              "      <td>...</td>\n",
              "      <td>...</td>\n",
              "      <td>...</td>\n",
              "      <td>...</td>\n",
              "      <td>...</td>\n",
              "      <td>...</td>\n",
              "      <td>...</td>\n",
              "      <td>...</td>\n",
              "      <td>...</td>\n",
              "      <td>...</td>\n",
              "      <td>...</td>\n",
              "      <td>...</td>\n",
              "    </tr>\n",
              "    <tr>\n",
              "      <th>51331</th>\n",
              "      <td>51332</td>\n",
              "      <td>3</td>\n",
              "      <td>0</td>\n",
              "      <td>3</td>\n",
              "      <td>1</td>\n",
              "      <td>0</td>\n",
              "      <td>0.333</td>\n",
              "      <td>0.00</td>\n",
              "      <td>1.000</td>\n",
              "      <td>0.000</td>\n",
              "      <td>...</td>\n",
              "      <td>0</td>\n",
              "      <td>2</td>\n",
              "      <td>0</td>\n",
              "      <td>0</td>\n",
              "      <td>0</td>\n",
              "      <td>0</td>\n",
              "      <td>3</td>\n",
              "      <td>1</td>\n",
              "      <td>24</td>\n",
              "      <td>5</td>\n",
              "    </tr>\n",
              "    <tr>\n",
              "      <th>51332</th>\n",
              "      <td>51333</td>\n",
              "      <td>4</td>\n",
              "      <td>2</td>\n",
              "      <td>2</td>\n",
              "      <td>0</td>\n",
              "      <td>1</td>\n",
              "      <td>0.000</td>\n",
              "      <td>0.25</td>\n",
              "      <td>0.500</td>\n",
              "      <td>0.500</td>\n",
              "      <td>...</td>\n",
              "      <td>0</td>\n",
              "      <td>2</td>\n",
              "      <td>0</td>\n",
              "      <td>0</td>\n",
              "      <td>0</td>\n",
              "      <td>2</td>\n",
              "      <td>2</td>\n",
              "      <td>0</td>\n",
              "      <td>74</td>\n",
              "      <td>7</td>\n",
              "    </tr>\n",
              "    <tr>\n",
              "      <th>51333</th>\n",
              "      <td>51334</td>\n",
              "      <td>2</td>\n",
              "      <td>1</td>\n",
              "      <td>1</td>\n",
              "      <td>1</td>\n",
              "      <td>1</td>\n",
              "      <td>0.500</td>\n",
              "      <td>0.50</td>\n",
              "      <td>0.500</td>\n",
              "      <td>0.500</td>\n",
              "      <td>...</td>\n",
              "      <td>0</td>\n",
              "      <td>2</td>\n",
              "      <td>0</td>\n",
              "      <td>0</td>\n",
              "      <td>0</td>\n",
              "      <td>0</td>\n",
              "      <td>2</td>\n",
              "      <td>0</td>\n",
              "      <td>9</td>\n",
              "      <td>5</td>\n",
              "    </tr>\n",
              "    <tr>\n",
              "      <th>51334</th>\n",
              "      <td>51335</td>\n",
              "      <td>2</td>\n",
              "      <td>1</td>\n",
              "      <td>1</td>\n",
              "      <td>0</td>\n",
              "      <td>0</td>\n",
              "      <td>0.000</td>\n",
              "      <td>0.00</td>\n",
              "      <td>0.500</td>\n",
              "      <td>0.500</td>\n",
              "      <td>...</td>\n",
              "      <td>0</td>\n",
              "      <td>2</td>\n",
              "      <td>0</td>\n",
              "      <td>0</td>\n",
              "      <td>0</td>\n",
              "      <td>0</td>\n",
              "      <td>2</td>\n",
              "      <td>0</td>\n",
              "      <td>15</td>\n",
              "      <td>8</td>\n",
              "    </tr>\n",
              "    <tr>\n",
              "      <th>51335</th>\n",
              "      <td>51336</td>\n",
              "      <td>1</td>\n",
              "      <td>0</td>\n",
              "      <td>1</td>\n",
              "      <td>0</td>\n",
              "      <td>0</td>\n",
              "      <td>0.000</td>\n",
              "      <td>0.00</td>\n",
              "      <td>1.000</td>\n",
              "      <td>0.000</td>\n",
              "      <td>...</td>\n",
              "      <td>0</td>\n",
              "      <td>0</td>\n",
              "      <td>0</td>\n",
              "      <td>0</td>\n",
              "      <td>0</td>\n",
              "      <td>1</td>\n",
              "      <td>0</td>\n",
              "      <td>0</td>\n",
              "      <td>20</td>\n",
              "      <td>20</td>\n",
              "    </tr>\n",
              "  </tbody>\n",
              "</table>\n",
              "<p>51336 rows × 26 columns</p>\n",
              "</div>"
            ],
            "text/plain": [
              "       PROSPECTID  Total_TL  Tot_Closed_TL  Tot_Active_TL  \\\n",
              "0               1         5              4              1   \n",
              "1               2         1              0              1   \n",
              "2               3         8              0              8   \n",
              "3               4         1              0              1   \n",
              "4               5         3              2              1   \n",
              "...           ...       ...            ...            ...   \n",
              "51331       51332         3              0              3   \n",
              "51332       51333         4              2              2   \n",
              "51333       51334         2              1              1   \n",
              "51334       51335         2              1              1   \n",
              "51335       51336         1              0              1   \n",
              "\n",
              "       Total_TL_opened_L6M  Tot_TL_closed_L6M  pct_tl_open_L6M  \\\n",
              "0                        0                  0            0.000   \n",
              "1                        0                  0            0.000   \n",
              "2                        1                  0            0.125   \n",
              "3                        1                  0            1.000   \n",
              "4                        0                  0            0.000   \n",
              "...                    ...                ...              ...   \n",
              "51331                    1                  0            0.333   \n",
              "51332                    0                  1            0.000   \n",
              "51333                    1                  1            0.500   \n",
              "51334                    0                  0            0.000   \n",
              "51335                    0                  0            0.000   \n",
              "\n",
              "       pct_tl_closed_L6M  pct_active_tl  pct_closed_tl  ...  CC_TL  \\\n",
              "0                   0.00          0.200          0.800  ...      0   \n",
              "1                   0.00          1.000          0.000  ...      0   \n",
              "2                   0.00          1.000          0.000  ...      0   \n",
              "3                   0.00          1.000          0.000  ...      0   \n",
              "4                   0.00          0.333          0.667  ...      0   \n",
              "...                  ...            ...            ...  ...    ...   \n",
              "51331               0.00          1.000          0.000  ...      0   \n",
              "51332               0.25          0.500          0.500  ...      0   \n",
              "51333               0.50          0.500          0.500  ...      0   \n",
              "51334               0.00          0.500          0.500  ...      0   \n",
              "51335               0.00          1.000          0.000  ...      0   \n",
              "\n",
              "       Consumer_TL  Gold_TL  Home_TL  PL_TL  Secured_TL  Unsecured_TL  \\\n",
              "0                0        1        0      4           1             4   \n",
              "1                1        0        0      0           0             1   \n",
              "2                6        1        0      0           2             6   \n",
              "3                0        0        0      0           0             1   \n",
              "4                0        0        0      0           3             0   \n",
              "...            ...      ...      ...    ...         ...           ...   \n",
              "51331            2        0        0      0           0             3   \n",
              "51332            2        0        0      0           2             2   \n",
              "51333            2        0        0      0           0             2   \n",
              "51334            2        0        0      0           0             2   \n",
              "51335            0        0        0      0           1             0   \n",
              "\n",
              "       Other_TL  Age_Oldest_TL  Age_Newest_TL  \n",
              "0             0             72             18  \n",
              "1             0              7              7  \n",
              "2             0             47              2  \n",
              "3             1              5              5  \n",
              "4             2            131             32  \n",
              "...         ...            ...            ...  \n",
              "51331         1             24              5  \n",
              "51332         0             74              7  \n",
              "51333         0              9              5  \n",
              "51334         0             15              8  \n",
              "51335         0             20             20  \n",
              "\n",
              "[51336 rows x 26 columns]"
            ]
          },
          "execution_count": 76,
          "metadata": {},
          "output_type": "execute_result"
        }
      ],
      "source": [
        "df1 = a1.copy()\n",
        "df2 = a2.copy()\n",
        "df1"
      ]
    },
    {
      "cell_type": "code",
      "execution_count": 77,
      "metadata": {
        "colab": {
          "base_uri": "https://localhost:8080/",
          "height": 443
        },
        "id": "LzDloX257BZM",
        "outputId": "80b6f219-22b3-423f-9896-1699c9ec82ac"
      },
      "outputs": [
        {
          "data": {
            "text/html": [
              "<div>\n",
              "<style scoped>\n",
              "    .dataframe tbody tr th:only-of-type {\n",
              "        vertical-align: middle;\n",
              "    }\n",
              "\n",
              "    .dataframe tbody tr th {\n",
              "        vertical-align: top;\n",
              "    }\n",
              "\n",
              "    .dataframe thead th {\n",
              "        text-align: right;\n",
              "    }\n",
              "</style>\n",
              "<table border=\"1\" class=\"dataframe\">\n",
              "  <thead>\n",
              "    <tr style=\"text-align: right;\">\n",
              "      <th></th>\n",
              "      <th>PROSPECTID</th>\n",
              "      <th>time_since_recent_payment</th>\n",
              "      <th>time_since_first_deliquency</th>\n",
              "      <th>time_since_recent_deliquency</th>\n",
              "      <th>num_times_delinquent</th>\n",
              "      <th>max_delinquency_level</th>\n",
              "      <th>max_recent_level_of_deliq</th>\n",
              "      <th>num_deliq_6mts</th>\n",
              "      <th>num_deliq_12mts</th>\n",
              "      <th>num_deliq_6_12mts</th>\n",
              "      <th>...</th>\n",
              "      <th>pct_CC_enq_L6m_of_L12m</th>\n",
              "      <th>pct_PL_enq_L6m_of_ever</th>\n",
              "      <th>pct_CC_enq_L6m_of_ever</th>\n",
              "      <th>max_unsec_exposure_inPct</th>\n",
              "      <th>HL_Flag</th>\n",
              "      <th>GL_Flag</th>\n",
              "      <th>last_prod_enq2</th>\n",
              "      <th>first_prod_enq2</th>\n",
              "      <th>Credit_Score</th>\n",
              "      <th>Approved_Flag</th>\n",
              "    </tr>\n",
              "  </thead>\n",
              "  <tbody>\n",
              "    <tr>\n",
              "      <th>0</th>\n",
              "      <td>1</td>\n",
              "      <td>549</td>\n",
              "      <td>35</td>\n",
              "      <td>15</td>\n",
              "      <td>11</td>\n",
              "      <td>29</td>\n",
              "      <td>29</td>\n",
              "      <td>0</td>\n",
              "      <td>0</td>\n",
              "      <td>0</td>\n",
              "      <td>...</td>\n",
              "      <td>0.0</td>\n",
              "      <td>0.0</td>\n",
              "      <td>0.0</td>\n",
              "      <td>13.333</td>\n",
              "      <td>1</td>\n",
              "      <td>0</td>\n",
              "      <td>PL</td>\n",
              "      <td>PL</td>\n",
              "      <td>696</td>\n",
              "      <td>P2</td>\n",
              "    </tr>\n",
              "    <tr>\n",
              "      <th>1</th>\n",
              "      <td>2</td>\n",
              "      <td>47</td>\n",
              "      <td>-99999</td>\n",
              "      <td>-99999</td>\n",
              "      <td>0</td>\n",
              "      <td>-99999</td>\n",
              "      <td>0</td>\n",
              "      <td>0</td>\n",
              "      <td>0</td>\n",
              "      <td>0</td>\n",
              "      <td>...</td>\n",
              "      <td>0.0</td>\n",
              "      <td>0.0</td>\n",
              "      <td>0.0</td>\n",
              "      <td>0.860</td>\n",
              "      <td>0</td>\n",
              "      <td>0</td>\n",
              "      <td>ConsumerLoan</td>\n",
              "      <td>ConsumerLoan</td>\n",
              "      <td>685</td>\n",
              "      <td>P2</td>\n",
              "    </tr>\n",
              "    <tr>\n",
              "      <th>2</th>\n",
              "      <td>3</td>\n",
              "      <td>302</td>\n",
              "      <td>11</td>\n",
              "      <td>3</td>\n",
              "      <td>9</td>\n",
              "      <td>25</td>\n",
              "      <td>25</td>\n",
              "      <td>1</td>\n",
              "      <td>9</td>\n",
              "      <td>8</td>\n",
              "      <td>...</td>\n",
              "      <td>0.0</td>\n",
              "      <td>0.0</td>\n",
              "      <td>0.0</td>\n",
              "      <td>5741.667</td>\n",
              "      <td>1</td>\n",
              "      <td>0</td>\n",
              "      <td>ConsumerLoan</td>\n",
              "      <td>others</td>\n",
              "      <td>693</td>\n",
              "      <td>P2</td>\n",
              "    </tr>\n",
              "    <tr>\n",
              "      <th>3</th>\n",
              "      <td>4</td>\n",
              "      <td>-99999</td>\n",
              "      <td>-99999</td>\n",
              "      <td>-99999</td>\n",
              "      <td>0</td>\n",
              "      <td>-99999</td>\n",
              "      <td>0</td>\n",
              "      <td>0</td>\n",
              "      <td>0</td>\n",
              "      <td>0</td>\n",
              "      <td>...</td>\n",
              "      <td>0.0</td>\n",
              "      <td>0.0</td>\n",
              "      <td>0.0</td>\n",
              "      <td>9.900</td>\n",
              "      <td>0</td>\n",
              "      <td>0</td>\n",
              "      <td>others</td>\n",
              "      <td>others</td>\n",
              "      <td>673</td>\n",
              "      <td>P2</td>\n",
              "    </tr>\n",
              "    <tr>\n",
              "      <th>4</th>\n",
              "      <td>5</td>\n",
              "      <td>583</td>\n",
              "      <td>-99999</td>\n",
              "      <td>-99999</td>\n",
              "      <td>0</td>\n",
              "      <td>-99999</td>\n",
              "      <td>0</td>\n",
              "      <td>0</td>\n",
              "      <td>0</td>\n",
              "      <td>0</td>\n",
              "      <td>...</td>\n",
              "      <td>0.0</td>\n",
              "      <td>0.0</td>\n",
              "      <td>0.0</td>\n",
              "      <td>-99999.000</td>\n",
              "      <td>0</td>\n",
              "      <td>0</td>\n",
              "      <td>AL</td>\n",
              "      <td>AL</td>\n",
              "      <td>753</td>\n",
              "      <td>P1</td>\n",
              "    </tr>\n",
              "    <tr>\n",
              "      <th>...</th>\n",
              "      <td>...</td>\n",
              "      <td>...</td>\n",
              "      <td>...</td>\n",
              "      <td>...</td>\n",
              "      <td>...</td>\n",
              "      <td>...</td>\n",
              "      <td>...</td>\n",
              "      <td>...</td>\n",
              "      <td>...</td>\n",
              "      <td>...</td>\n",
              "      <td>...</td>\n",
              "      <td>...</td>\n",
              "      <td>...</td>\n",
              "      <td>...</td>\n",
              "      <td>...</td>\n",
              "      <td>...</td>\n",
              "      <td>...</td>\n",
              "      <td>...</td>\n",
              "      <td>...</td>\n",
              "      <td>...</td>\n",
              "      <td>...</td>\n",
              "    </tr>\n",
              "    <tr>\n",
              "      <th>51331</th>\n",
              "      <td>51332</td>\n",
              "      <td>15</td>\n",
              "      <td>24</td>\n",
              "      <td>23</td>\n",
              "      <td>2</td>\n",
              "      <td>24</td>\n",
              "      <td>24</td>\n",
              "      <td>0</td>\n",
              "      <td>0</td>\n",
              "      <td>0</td>\n",
              "      <td>...</td>\n",
              "      <td>0.0</td>\n",
              "      <td>0.0</td>\n",
              "      <td>0.0</td>\n",
              "      <td>1.661</td>\n",
              "      <td>0</td>\n",
              "      <td>0</td>\n",
              "      <td>ConsumerLoan</td>\n",
              "      <td>ConsumerLoan</td>\n",
              "      <td>650</td>\n",
              "      <td>P4</td>\n",
              "    </tr>\n",
              "    <tr>\n",
              "      <th>51332</th>\n",
              "      <td>51333</td>\n",
              "      <td>57</td>\n",
              "      <td>-99999</td>\n",
              "      <td>-99999</td>\n",
              "      <td>0</td>\n",
              "      <td>-99999</td>\n",
              "      <td>0</td>\n",
              "      <td>0</td>\n",
              "      <td>0</td>\n",
              "      <td>0</td>\n",
              "      <td>...</td>\n",
              "      <td>0.0</td>\n",
              "      <td>0.0</td>\n",
              "      <td>0.0</td>\n",
              "      <td>0.520</td>\n",
              "      <td>0</td>\n",
              "      <td>0</td>\n",
              "      <td>others</td>\n",
              "      <td>others</td>\n",
              "      <td>702</td>\n",
              "      <td>P1</td>\n",
              "    </tr>\n",
              "    <tr>\n",
              "      <th>51333</th>\n",
              "      <td>51334</td>\n",
              "      <td>32</td>\n",
              "      <td>-99999</td>\n",
              "      <td>-99999</td>\n",
              "      <td>0</td>\n",
              "      <td>-99999</td>\n",
              "      <td>0</td>\n",
              "      <td>0</td>\n",
              "      <td>0</td>\n",
              "      <td>0</td>\n",
              "      <td>...</td>\n",
              "      <td>0.0</td>\n",
              "      <td>1.0</td>\n",
              "      <td>0.0</td>\n",
              "      <td>0.567</td>\n",
              "      <td>0</td>\n",
              "      <td>0</td>\n",
              "      <td>ConsumerLoan</td>\n",
              "      <td>others</td>\n",
              "      <td>661</td>\n",
              "      <td>P3</td>\n",
              "    </tr>\n",
              "    <tr>\n",
              "      <th>51334</th>\n",
              "      <td>51335</td>\n",
              "      <td>58</td>\n",
              "      <td>-99999</td>\n",
              "      <td>-99999</td>\n",
              "      <td>0</td>\n",
              "      <td>-99999</td>\n",
              "      <td>0</td>\n",
              "      <td>0</td>\n",
              "      <td>0</td>\n",
              "      <td>0</td>\n",
              "      <td>...</td>\n",
              "      <td>0.0</td>\n",
              "      <td>0.0</td>\n",
              "      <td>0.0</td>\n",
              "      <td>1.202</td>\n",
              "      <td>0</td>\n",
              "      <td>0</td>\n",
              "      <td>ConsumerLoan</td>\n",
              "      <td>others</td>\n",
              "      <td>686</td>\n",
              "      <td>P2</td>\n",
              "    </tr>\n",
              "    <tr>\n",
              "      <th>51335</th>\n",
              "      <td>51336</td>\n",
              "      <td>74</td>\n",
              "      <td>-99999</td>\n",
              "      <td>-99999</td>\n",
              "      <td>0</td>\n",
              "      <td>-99999</td>\n",
              "      <td>0</td>\n",
              "      <td>0</td>\n",
              "      <td>0</td>\n",
              "      <td>0</td>\n",
              "      <td>...</td>\n",
              "      <td>0.0</td>\n",
              "      <td>0.0</td>\n",
              "      <td>0.0</td>\n",
              "      <td>-99999.000</td>\n",
              "      <td>0</td>\n",
              "      <td>0</td>\n",
              "      <td>others</td>\n",
              "      <td>others</td>\n",
              "      <td>681</td>\n",
              "      <td>P2</td>\n",
              "    </tr>\n",
              "  </tbody>\n",
              "</table>\n",
              "<p>51336 rows × 62 columns</p>\n",
              "</div>"
            ],
            "text/plain": [
              "       PROSPECTID  time_since_recent_payment  time_since_first_deliquency  \\\n",
              "0               1                        549                           35   \n",
              "1               2                         47                       -99999   \n",
              "2               3                        302                           11   \n",
              "3               4                     -99999                       -99999   \n",
              "4               5                        583                       -99999   \n",
              "...           ...                        ...                          ...   \n",
              "51331       51332                         15                           24   \n",
              "51332       51333                         57                       -99999   \n",
              "51333       51334                         32                       -99999   \n",
              "51334       51335                         58                       -99999   \n",
              "51335       51336                         74                       -99999   \n",
              "\n",
              "       time_since_recent_deliquency  num_times_delinquent  \\\n",
              "0                                15                    11   \n",
              "1                            -99999                     0   \n",
              "2                                 3                     9   \n",
              "3                            -99999                     0   \n",
              "4                            -99999                     0   \n",
              "...                             ...                   ...   \n",
              "51331                            23                     2   \n",
              "51332                        -99999                     0   \n",
              "51333                        -99999                     0   \n",
              "51334                        -99999                     0   \n",
              "51335                        -99999                     0   \n",
              "\n",
              "       max_delinquency_level  max_recent_level_of_deliq  num_deliq_6mts  \\\n",
              "0                         29                         29               0   \n",
              "1                     -99999                          0               0   \n",
              "2                         25                         25               1   \n",
              "3                     -99999                          0               0   \n",
              "4                     -99999                          0               0   \n",
              "...                      ...                        ...             ...   \n",
              "51331                     24                         24               0   \n",
              "51332                 -99999                          0               0   \n",
              "51333                 -99999                          0               0   \n",
              "51334                 -99999                          0               0   \n",
              "51335                 -99999                          0               0   \n",
              "\n",
              "       num_deliq_12mts  num_deliq_6_12mts  ...  pct_CC_enq_L6m_of_L12m  \\\n",
              "0                    0                  0  ...                     0.0   \n",
              "1                    0                  0  ...                     0.0   \n",
              "2                    9                  8  ...                     0.0   \n",
              "3                    0                  0  ...                     0.0   \n",
              "4                    0                  0  ...                     0.0   \n",
              "...                ...                ...  ...                     ...   \n",
              "51331                0                  0  ...                     0.0   \n",
              "51332                0                  0  ...                     0.0   \n",
              "51333                0                  0  ...                     0.0   \n",
              "51334                0                  0  ...                     0.0   \n",
              "51335                0                  0  ...                     0.0   \n",
              "\n",
              "       pct_PL_enq_L6m_of_ever  pct_CC_enq_L6m_of_ever  \\\n",
              "0                         0.0                     0.0   \n",
              "1                         0.0                     0.0   \n",
              "2                         0.0                     0.0   \n",
              "3                         0.0                     0.0   \n",
              "4                         0.0                     0.0   \n",
              "...                       ...                     ...   \n",
              "51331                     0.0                     0.0   \n",
              "51332                     0.0                     0.0   \n",
              "51333                     1.0                     0.0   \n",
              "51334                     0.0                     0.0   \n",
              "51335                     0.0                     0.0   \n",
              "\n",
              "       max_unsec_exposure_inPct  HL_Flag  GL_Flag  last_prod_enq2  \\\n",
              "0                        13.333        1        0              PL   \n",
              "1                         0.860        0        0    ConsumerLoan   \n",
              "2                      5741.667        1        0    ConsumerLoan   \n",
              "3                         9.900        0        0          others   \n",
              "4                    -99999.000        0        0              AL   \n",
              "...                         ...      ...      ...             ...   \n",
              "51331                     1.661        0        0    ConsumerLoan   \n",
              "51332                     0.520        0        0          others   \n",
              "51333                     0.567        0        0    ConsumerLoan   \n",
              "51334                     1.202        0        0    ConsumerLoan   \n",
              "51335                -99999.000        0        0          others   \n",
              "\n",
              "       first_prod_enq2  Credit_Score  Approved_Flag  \n",
              "0                   PL           696             P2  \n",
              "1         ConsumerLoan           685             P2  \n",
              "2               others           693             P2  \n",
              "3               others           673             P2  \n",
              "4                   AL           753             P1  \n",
              "...                ...           ...            ...  \n",
              "51331     ConsumerLoan           650             P4  \n",
              "51332           others           702             P1  \n",
              "51333           others           661             P3  \n",
              "51334           others           686             P2  \n",
              "51335           others           681             P2  \n",
              "\n",
              "[51336 rows x 62 columns]"
            ]
          },
          "execution_count": 77,
          "metadata": {},
          "output_type": "execute_result"
        }
      ],
      "source": [
        "df2"
      ]
    },
    {
      "cell_type": "markdown",
      "metadata": {
        "id": "8pPJmQrR7JOY"
      },
      "source": [
        "### Using Info Method and Describe Method "
      ]
    },
    {
      "cell_type": "code",
      "execution_count": 78,
      "metadata": {
        "colab": {
          "base_uri": "https://localhost:8080/"
        },
        "id": "qmzrw0z77aYd",
        "outputId": "12cb4bc1-d385-42a6-8e6e-8ec60c55bf63"
      },
      "outputs": [
        {
          "name": "stdout",
          "output_type": "stream",
          "text": [
            "<class 'pandas.core.frame.DataFrame'>\n",
            "RangeIndex: 51336 entries, 0 to 51335\n",
            "Data columns (total 26 columns):\n",
            " #   Column                Non-Null Count  Dtype  \n",
            "---  ------                --------------  -----  \n",
            " 0   PROSPECTID            51336 non-null  int64  \n",
            " 1   Total_TL              51336 non-null  int64  \n",
            " 2   Tot_Closed_TL         51336 non-null  int64  \n",
            " 3   Tot_Active_TL         51336 non-null  int64  \n",
            " 4   Total_TL_opened_L6M   51336 non-null  int64  \n",
            " 5   Tot_TL_closed_L6M     51336 non-null  int64  \n",
            " 6   pct_tl_open_L6M       51336 non-null  float64\n",
            " 7   pct_tl_closed_L6M     51336 non-null  float64\n",
            " 8   pct_active_tl         51336 non-null  float64\n",
            " 9   pct_closed_tl         51336 non-null  float64\n",
            " 10  Total_TL_opened_L12M  51336 non-null  int64  \n",
            " 11  Tot_TL_closed_L12M    51336 non-null  int64  \n",
            " 12  pct_tl_open_L12M      51336 non-null  float64\n",
            " 13  pct_tl_closed_L12M    51336 non-null  float64\n",
            " 14  Tot_Missed_Pmnt       51336 non-null  int64  \n",
            " 15  Auto_TL               51336 non-null  int64  \n",
            " 16  CC_TL                 51336 non-null  int64  \n",
            " 17  Consumer_TL           51336 non-null  int64  \n",
            " 18  Gold_TL               51336 non-null  int64  \n",
            " 19  Home_TL               51336 non-null  int64  \n",
            " 20  PL_TL                 51336 non-null  int64  \n",
            " 21  Secured_TL            51336 non-null  int64  \n",
            " 22  Unsecured_TL          51336 non-null  int64  \n",
            " 23  Other_TL              51336 non-null  int64  \n",
            " 24  Age_Oldest_TL         51336 non-null  int64  \n",
            " 25  Age_Newest_TL         51336 non-null  int64  \n",
            "dtypes: float64(6), int64(20)\n",
            "memory usage: 10.2 MB\n"
          ]
        }
      ],
      "source": [
        "df1.info()"
      ]
    },
    {
      "cell_type": "code",
      "execution_count": 79,
      "metadata": {
        "colab": {
          "base_uri": "https://localhost:8080/"
        },
        "id": "b0yKeJjh9uI_",
        "outputId": "fb9a6923-2a22-449c-ee3b-07085b8b448b"
      },
      "outputs": [
        {
          "name": "stdout",
          "output_type": "stream",
          "text": [
            "<class 'pandas.core.frame.DataFrame'>\n",
            "RangeIndex: 51336 entries, 0 to 51335\n",
            "Data columns (total 62 columns):\n",
            " #   Column                        Non-Null Count  Dtype  \n",
            "---  ------                        --------------  -----  \n",
            " 0   PROSPECTID                    51336 non-null  int64  \n",
            " 1   time_since_recent_payment     51336 non-null  int64  \n",
            " 2   time_since_first_deliquency   51336 non-null  int64  \n",
            " 3   time_since_recent_deliquency  51336 non-null  int64  \n",
            " 4   num_times_delinquent          51336 non-null  int64  \n",
            " 5   max_delinquency_level         51336 non-null  int64  \n",
            " 6   max_recent_level_of_deliq     51336 non-null  int64  \n",
            " 7   num_deliq_6mts                51336 non-null  int64  \n",
            " 8   num_deliq_12mts               51336 non-null  int64  \n",
            " 9   num_deliq_6_12mts             51336 non-null  int64  \n",
            " 10  max_deliq_6mts                51336 non-null  int64  \n",
            " 11  max_deliq_12mts               51336 non-null  int64  \n",
            " 12  num_times_30p_dpd             51336 non-null  int64  \n",
            " 13  num_times_60p_dpd             51336 non-null  int64  \n",
            " 14  num_std                       51336 non-null  int64  \n",
            " 15  num_std_6mts                  51336 non-null  int64  \n",
            " 16  num_std_12mts                 51336 non-null  int64  \n",
            " 17  num_sub                       51336 non-null  int64  \n",
            " 18  num_sub_6mts                  51336 non-null  int64  \n",
            " 19  num_sub_12mts                 51336 non-null  int64  \n",
            " 20  num_dbt                       51336 non-null  int64  \n",
            " 21  num_dbt_6mts                  51336 non-null  int64  \n",
            " 22  num_dbt_12mts                 51336 non-null  int64  \n",
            " 23  num_lss                       51336 non-null  int64  \n",
            " 24  num_lss_6mts                  51336 non-null  int64  \n",
            " 25  num_lss_12mts                 51336 non-null  int64  \n",
            " 26  recent_level_of_deliq         51336 non-null  int64  \n",
            " 27  tot_enq                       51336 non-null  int64  \n",
            " 28  CC_enq                        51336 non-null  int64  \n",
            " 29  CC_enq_L6m                    51336 non-null  int64  \n",
            " 30  CC_enq_L12m                   51336 non-null  int64  \n",
            " 31  PL_enq                        51336 non-null  int64  \n",
            " 32  PL_enq_L6m                    51336 non-null  int64  \n",
            " 33  PL_enq_L12m                   51336 non-null  int64  \n",
            " 34  time_since_recent_enq         51336 non-null  int64  \n",
            " 35  enq_L12m                      51336 non-null  int64  \n",
            " 36  enq_L6m                       51336 non-null  int64  \n",
            " 37  enq_L3m                       51336 non-null  int64  \n",
            " 38  MARITALSTATUS                 51336 non-null  object \n",
            " 39  EDUCATION                     51336 non-null  object \n",
            " 40  AGE                           51336 non-null  int64  \n",
            " 41  GENDER                        51336 non-null  object \n",
            " 42  NETMONTHLYINCOME              51336 non-null  int64  \n",
            " 43  Time_With_Curr_Empr           51336 non-null  int64  \n",
            " 44  pct_of_active_TLs_ever        51336 non-null  float64\n",
            " 45  pct_opened_TLs_L6m_of_L12m    51336 non-null  float64\n",
            " 46  pct_currentBal_all_TL         51336 non-null  float64\n",
            " 47  CC_utilization                51336 non-null  float64\n",
            " 48  CC_Flag                       51336 non-null  int64  \n",
            " 49  PL_utilization                51336 non-null  float64\n",
            " 50  PL_Flag                       51336 non-null  int64  \n",
            " 51  pct_PL_enq_L6m_of_L12m        51336 non-null  float64\n",
            " 52  pct_CC_enq_L6m_of_L12m        51336 non-null  float64\n",
            " 53  pct_PL_enq_L6m_of_ever        51336 non-null  float64\n",
            " 54  pct_CC_enq_L6m_of_ever        51336 non-null  float64\n",
            " 55  max_unsec_exposure_inPct      51336 non-null  float64\n",
            " 56  HL_Flag                       51336 non-null  int64  \n",
            " 57  GL_Flag                       51336 non-null  int64  \n",
            " 58  last_prod_enq2                51336 non-null  object \n",
            " 59  first_prod_enq2               51336 non-null  object \n",
            " 60  Credit_Score                  51336 non-null  int64  \n",
            " 61  Approved_Flag                 51336 non-null  object \n",
            "dtypes: float64(10), int64(46), object(6)\n",
            "memory usage: 24.3+ MB\n"
          ]
        }
      ],
      "source": [
        "df2.info()"
      ]
    },
    {
      "cell_type": "markdown",
      "metadata": {
        "id": "bVbaeHWQ7iu-"
      },
      "source": [
        "## Removing Null Value \n",
        "\n",
        "In The \"df1\" dataset -99999 is equivalent to Null value. We have to remove it from dataset."
      ]
    },
    {
      "cell_type": "code",
      "execution_count": 80,
      "metadata": {
        "id": "u1NXWD-I6d5U"
      },
      "outputs": [],
      "source": [
        "# remove nulls\n",
        "df1 = df1.loc[df1['Age_Oldest_TL']!=-99999]"
      ]
    },
    {
      "cell_type": "code",
      "execution_count": 81,
      "metadata": {
        "colab": {
          "base_uri": "https://localhost:8080/"
        },
        "id": "TGPZBVu4NzEG",
        "outputId": "c6390487-4ca7-4100-ce68-bb12d8049bba"
      },
      "outputs": [
        {
          "data": {
            "text/plain": [
              "(51296, 26)"
            ]
          },
          "execution_count": 81,
          "metadata": {},
          "output_type": "execute_result"
        }
      ],
      "source": [
        "df1.shape"
      ]
    },
    {
      "cell_type": "code",
      "execution_count": 82,
      "metadata": {
        "colab": {
          "base_uri": "https://localhost:8080/"
        },
        "id": "J7h16iurO11d",
        "outputId": "22cf2991-74e7-4b4f-b52b-b94b2f28e90b"
      },
      "outputs": [
        {
          "data": {
            "text/plain": [
              "(51336, 62)"
            ]
          },
          "execution_count": 82,
          "metadata": {},
          "output_type": "execute_result"
        }
      ],
      "source": [
        "df2.shape"
      ]
    },
    {
      "cell_type": "markdown",
      "metadata": {
        "id": "A2oUimNgK1JB"
      },
      "source": [
        "## EDA and Feature Engineering"
      ]
    },
    {
      "cell_type": "markdown",
      "metadata": {
        "id": "WdMvsJwpPTuR"
      },
      "source": [
        "In df2 there is more null value present in each coloumn so we try with loop and count the value of null in each column if null is greater than 10000 than we don't impute that column with avg. we will remove this column from df2."
      ]
    },
    {
      "cell_type": "code",
      "execution_count": 83,
      "metadata": {
        "colab": {
          "base_uri": "https://localhost:8080/"
        },
        "id": "2jLsS71q6oU5",
        "outputId": "d8d620b9-cb4b-48ab-e76d-2c5fe7ced3b6"
      },
      "outputs": [
        {
          "data": {
            "text/plain": [
              "['time_since_first_deliquency',\n",
              " 'time_since_recent_deliquency',\n",
              " 'max_delinquency_level',\n",
              " 'max_deliq_6mts',\n",
              " 'max_deliq_12mts',\n",
              " 'CC_utilization',\n",
              " 'PL_utilization',\n",
              " 'max_unsec_exposure_inPct']"
            ]
          },
          "execution_count": 83,
          "metadata": {},
          "output_type": "execute_result"
        }
      ],
      "source": [
        "columns_to_be_removed = []\n",
        "\n",
        "for i in df2.columns:\n",
        "  if df2.loc[df2[i]==-99999].shape[0]>10000:\n",
        "    columns_to_be_removed.append(i)\n",
        "\n",
        "columns_to_be_removed"
      ]
    },
    {
      "cell_type": "code",
      "execution_count": 84,
      "metadata": {
        "id": "IIHcV6RhRCTQ"
      },
      "outputs": [],
      "source": [
        "# remove columns\n",
        "\n",
        "df2 = df2.drop(columns_to_be_removed, axis = 1 ) # here axis = 1 for column and 0 for row\n"
      ]
    },
    {
      "cell_type": "code",
      "execution_count": 85,
      "metadata": {
        "colab": {
          "base_uri": "https://localhost:8080/"
        },
        "id": "B8ydn4M1RlnZ",
        "outputId": "7cd9cd82-23c3-4720-ede8-762c6e5119e8"
      },
      "outputs": [
        {
          "data": {
            "text/plain": [
              "(51336, 54)"
            ]
          },
          "execution_count": 85,
          "metadata": {},
          "output_type": "execute_result"
        }
      ],
      "source": [
        "df2.shape # here 62 - 8 = 54"
      ]
    },
    {
      "cell_type": "code",
      "execution_count": 86,
      "metadata": {
        "id": "dxhj1vCMRwGd"
      },
      "outputs": [],
      "source": [
        "# remove null\n",
        "\n",
        "for i  in df2.columns:\n",
        "  df2 = df2.loc[df2[i] != -99999]"
      ]
    },
    {
      "cell_type": "code",
      "execution_count": 87,
      "metadata": {
        "colab": {
          "base_uri": "https://localhost:8080/"
        },
        "id": "iE9ryOoyTs9R",
        "outputId": "8e0f9a06-e698-4b68-890c-ba563f33ad88"
      },
      "outputs": [
        {
          "data": {
            "text/plain": [
              "(42066, 54)"
            ]
          },
          "execution_count": 87,
          "metadata": {},
          "output_type": "execute_result"
        }
      ],
      "source": [
        "df2.shape"
      ]
    },
    {
      "cell_type": "code",
      "execution_count": 88,
      "metadata": {
        "colab": {
          "base_uri": "https://localhost:8080/"
        },
        "id": "9J-2IS_WTvDW",
        "outputId": "1bb3f5e9-0687-47f1-ffca-ed7f6be8594d"
      },
      "outputs": [
        {
          "data": {
            "text/plain": [
              "PROSPECTID                    0\n",
              "time_since_recent_payment     0\n",
              "num_times_delinquent          0\n",
              "max_recent_level_of_deliq     0\n",
              "num_deliq_6mts                0\n",
              "num_deliq_12mts               0\n",
              "num_deliq_6_12mts             0\n",
              "num_times_30p_dpd             0\n",
              "num_times_60p_dpd             0\n",
              "num_std                       0\n",
              "num_std_6mts                  0\n",
              "num_std_12mts                 0\n",
              "num_sub                       0\n",
              "num_sub_6mts                  0\n",
              "num_sub_12mts                 0\n",
              "num_dbt                       0\n",
              "num_dbt_6mts                  0\n",
              "num_dbt_12mts                 0\n",
              "num_lss                       0\n",
              "num_lss_6mts                  0\n",
              "num_lss_12mts                 0\n",
              "recent_level_of_deliq         0\n",
              "tot_enq                       0\n",
              "CC_enq                        0\n",
              "CC_enq_L6m                    0\n",
              "CC_enq_L12m                   0\n",
              "PL_enq                        0\n",
              "PL_enq_L6m                    0\n",
              "PL_enq_L12m                   0\n",
              "time_since_recent_enq         0\n",
              "enq_L12m                      0\n",
              "enq_L6m                       0\n",
              "enq_L3m                       0\n",
              "MARITALSTATUS                 0\n",
              "EDUCATION                     0\n",
              "AGE                           0\n",
              "GENDER                        0\n",
              "NETMONTHLYINCOME              0\n",
              "Time_With_Curr_Empr           0\n",
              "pct_of_active_TLs_ever        0\n",
              "pct_opened_TLs_L6m_of_L12m    0\n",
              "pct_currentBal_all_TL         0\n",
              "CC_Flag                       0\n",
              "PL_Flag                       0\n",
              "pct_PL_enq_L6m_of_L12m        0\n",
              "pct_CC_enq_L6m_of_L12m        0\n",
              "pct_PL_enq_L6m_of_ever        0\n",
              "pct_CC_enq_L6m_of_ever        0\n",
              "HL_Flag                       0\n",
              "GL_Flag                       0\n",
              "last_prod_enq2                0\n",
              "first_prod_enq2               0\n",
              "Credit_Score                  0\n",
              "Approved_Flag                 0\n",
              "dtype: int64"
            ]
          },
          "execution_count": 88,
          "metadata": {},
          "output_type": "execute_result"
        }
      ],
      "source": [
        "df2.isnull().sum()"
      ]
    },
    {
      "cell_type": "code",
      "execution_count": 89,
      "metadata": {
        "colab": {
          "base_uri": "https://localhost:8080/"
        },
        "id": "-tFyOq30UDdD",
        "outputId": "6735ec8d-9d28-4703-8a91-9bd59d0e92e1"
      },
      "outputs": [
        {
          "data": {
            "text/plain": [
              "PROSPECTID              0\n",
              "Total_TL                0\n",
              "Tot_Closed_TL           0\n",
              "Tot_Active_TL           0\n",
              "Total_TL_opened_L6M     0\n",
              "Tot_TL_closed_L6M       0\n",
              "pct_tl_open_L6M         0\n",
              "pct_tl_closed_L6M       0\n",
              "pct_active_tl           0\n",
              "pct_closed_tl           0\n",
              "Total_TL_opened_L12M    0\n",
              "Tot_TL_closed_L12M      0\n",
              "pct_tl_open_L12M        0\n",
              "pct_tl_closed_L12M      0\n",
              "Tot_Missed_Pmnt         0\n",
              "Auto_TL                 0\n",
              "CC_TL                   0\n",
              "Consumer_TL             0\n",
              "Gold_TL                 0\n",
              "Home_TL                 0\n",
              "PL_TL                   0\n",
              "Secured_TL              0\n",
              "Unsecured_TL            0\n",
              "Other_TL                0\n",
              "Age_Oldest_TL           0\n",
              "Age_Newest_TL           0\n",
              "dtype: int64"
            ]
          },
          "execution_count": 89,
          "metadata": {},
          "output_type": "execute_result"
        }
      ],
      "source": [
        "df1.isnull().sum()"
      ]
    },
    {
      "cell_type": "code",
      "execution_count": 90,
      "metadata": {
        "colab": {
          "base_uri": "https://localhost:8080/"
        },
        "id": "QSktlQduUHfP",
        "outputId": "8ad0ff56-fe79-4d06-f3d7-d3bbc54c1f31"
      },
      "outputs": [
        {
          "name": "stdout",
          "output_type": "stream",
          "text": [
            "PROSPECTID\n"
          ]
        }
      ],
      "source": [
        "# checking comman column name so that we can merge both data set\n",
        "\n",
        "for i in list(df1.columns):\n",
        "  if i in list(df2.columns):\n",
        "    print(i)"
      ]
    },
    {
      "cell_type": "markdown",
      "metadata": {},
      "source": [
        "#### Merging of Two dataframe by Using Pandas"
      ]
    },
    {
      "cell_type": "code",
      "execution_count": 91,
      "metadata": {
        "id": "B-uynr6CVC9Z"
      },
      "outputs": [],
      "source": [
        "# Merge the two dataframe inner join so that no nulls are present\n",
        "\n",
        "df = pd.merge(df1,df2,how='inner',left_on = ['PROSPECTID'],right_on = ['PROSPECTID'])"
      ]
    },
    {
      "cell_type": "code",
      "execution_count": 92,
      "metadata": {
        "colab": {
          "base_uri": "https://localhost:8080/"
        },
        "id": "xVZMmCNfWzIL",
        "outputId": "c05c9da9-5773-4cf6-f3ff-821d74fdc5f0"
      },
      "outputs": [
        {
          "data": {
            "text/plain": [
              "(42064, 79)"
            ]
          },
          "execution_count": 92,
          "metadata": {},
          "output_type": "execute_result"
        }
      ],
      "source": [
        "df.shape"
      ]
    },
    {
      "cell_type": "code",
      "execution_count": 93,
      "metadata": {
        "colab": {
          "base_uri": "https://localhost:8080/"
        },
        "collapsed": true,
        "id": "dBRmBJM4Xi3V",
        "outputId": "e3a6952b-03a9-483f-94b5-b3b67b36258d"
      },
      "outputs": [
        {
          "name": "stdout",
          "output_type": "stream",
          "text": [
            "<class 'pandas.core.frame.DataFrame'>\n",
            "RangeIndex: 42064 entries, 0 to 42063\n",
            "Data columns (total 79 columns):\n",
            " #   Column                      Non-Null Count  Dtype  \n",
            "---  ------                      --------------  -----  \n",
            " 0   PROSPECTID                  42064 non-null  int64  \n",
            " 1   Total_TL                    42064 non-null  int64  \n",
            " 2   Tot_Closed_TL               42064 non-null  int64  \n",
            " 3   Tot_Active_TL               42064 non-null  int64  \n",
            " 4   Total_TL_opened_L6M         42064 non-null  int64  \n",
            " 5   Tot_TL_closed_L6M           42064 non-null  int64  \n",
            " 6   pct_tl_open_L6M             42064 non-null  float64\n",
            " 7   pct_tl_closed_L6M           42064 non-null  float64\n",
            " 8   pct_active_tl               42064 non-null  float64\n",
            " 9   pct_closed_tl               42064 non-null  float64\n",
            " 10  Total_TL_opened_L12M        42064 non-null  int64  \n",
            " 11  Tot_TL_closed_L12M          42064 non-null  int64  \n",
            " 12  pct_tl_open_L12M            42064 non-null  float64\n",
            " 13  pct_tl_closed_L12M          42064 non-null  float64\n",
            " 14  Tot_Missed_Pmnt             42064 non-null  int64  \n",
            " 15  Auto_TL                     42064 non-null  int64  \n",
            " 16  CC_TL                       42064 non-null  int64  \n",
            " 17  Consumer_TL                 42064 non-null  int64  \n",
            " 18  Gold_TL                     42064 non-null  int64  \n",
            " 19  Home_TL                     42064 non-null  int64  \n",
            " 20  PL_TL                       42064 non-null  int64  \n",
            " 21  Secured_TL                  42064 non-null  int64  \n",
            " 22  Unsecured_TL                42064 non-null  int64  \n",
            " 23  Other_TL                    42064 non-null  int64  \n",
            " 24  Age_Oldest_TL               42064 non-null  int64  \n",
            " 25  Age_Newest_TL               42064 non-null  int64  \n",
            " 26  time_since_recent_payment   42064 non-null  int64  \n",
            " 27  num_times_delinquent        42064 non-null  int64  \n",
            " 28  max_recent_level_of_deliq   42064 non-null  int64  \n",
            " 29  num_deliq_6mts              42064 non-null  int64  \n",
            " 30  num_deliq_12mts             42064 non-null  int64  \n",
            " 31  num_deliq_6_12mts           42064 non-null  int64  \n",
            " 32  num_times_30p_dpd           42064 non-null  int64  \n",
            " 33  num_times_60p_dpd           42064 non-null  int64  \n",
            " 34  num_std                     42064 non-null  int64  \n",
            " 35  num_std_6mts                42064 non-null  int64  \n",
            " 36  num_std_12mts               42064 non-null  int64  \n",
            " 37  num_sub                     42064 non-null  int64  \n",
            " 38  num_sub_6mts                42064 non-null  int64  \n",
            " 39  num_sub_12mts               42064 non-null  int64  \n",
            " 40  num_dbt                     42064 non-null  int64  \n",
            " 41  num_dbt_6mts                42064 non-null  int64  \n",
            " 42  num_dbt_12mts               42064 non-null  int64  \n",
            " 43  num_lss                     42064 non-null  int64  \n",
            " 44  num_lss_6mts                42064 non-null  int64  \n",
            " 45  num_lss_12mts               42064 non-null  int64  \n",
            " 46  recent_level_of_deliq       42064 non-null  int64  \n",
            " 47  tot_enq                     42064 non-null  int64  \n",
            " 48  CC_enq                      42064 non-null  int64  \n",
            " 49  CC_enq_L6m                  42064 non-null  int64  \n",
            " 50  CC_enq_L12m                 42064 non-null  int64  \n",
            " 51  PL_enq                      42064 non-null  int64  \n",
            " 52  PL_enq_L6m                  42064 non-null  int64  \n",
            " 53  PL_enq_L12m                 42064 non-null  int64  \n",
            " 54  time_since_recent_enq       42064 non-null  int64  \n",
            " 55  enq_L12m                    42064 non-null  int64  \n",
            " 56  enq_L6m                     42064 non-null  int64  \n",
            " 57  enq_L3m                     42064 non-null  int64  \n",
            " 58  MARITALSTATUS               42064 non-null  object \n",
            " 59  EDUCATION                   42064 non-null  object \n",
            " 60  AGE                         42064 non-null  int64  \n",
            " 61  GENDER                      42064 non-null  object \n",
            " 62  NETMONTHLYINCOME            42064 non-null  int64  \n",
            " 63  Time_With_Curr_Empr         42064 non-null  int64  \n",
            " 64  pct_of_active_TLs_ever      42064 non-null  float64\n",
            " 65  pct_opened_TLs_L6m_of_L12m  42064 non-null  float64\n",
            " 66  pct_currentBal_all_TL       42064 non-null  float64\n",
            " 67  CC_Flag                     42064 non-null  int64  \n",
            " 68  PL_Flag                     42064 non-null  int64  \n",
            " 69  pct_PL_enq_L6m_of_L12m      42064 non-null  float64\n",
            " 70  pct_CC_enq_L6m_of_L12m      42064 non-null  float64\n",
            " 71  pct_PL_enq_L6m_of_ever      42064 non-null  float64\n",
            " 72  pct_CC_enq_L6m_of_ever      42064 non-null  float64\n",
            " 73  HL_Flag                     42064 non-null  int64  \n",
            " 74  GL_Flag                     42064 non-null  int64  \n",
            " 75  last_prod_enq2              42064 non-null  object \n",
            " 76  first_prod_enq2             42064 non-null  object \n",
            " 77  Credit_Score                42064 non-null  int64  \n",
            " 78  Approved_Flag               42064 non-null  object \n",
            "dtypes: float64(13), int64(60), object(6)\n",
            "memory usage: 25.4+ MB\n"
          ]
        }
      ],
      "source": [
        "df.info()"
      ]
    },
    {
      "cell_type": "code",
      "execution_count": 94,
      "metadata": {
        "colab": {
          "base_uri": "https://localhost:8080/"
        },
        "id": "URC6iy8WW1Lb",
        "outputId": "b22183b5-81a8-451c-cb57-3aa33fd6a159"
      },
      "outputs": [
        {
          "data": {
            "text/plain": [
              "0"
            ]
          },
          "execution_count": 94,
          "metadata": {},
          "output_type": "execute_result"
        }
      ],
      "source": [
        "df.isnull().sum().sum()"
      ]
    },
    {
      "cell_type": "markdown",
      "metadata": {},
      "source": [
        "### Feature Selection for Level Encoding and One-hot Encoding"
      ]
    },
    {
      "cell_type": "code",
      "execution_count": 95,
      "metadata": {
        "colab": {
          "base_uri": "https://localhost:8080/"
        },
        "id": "fEqAuQDkXfBP",
        "outputId": "838d067a-ff8c-486e-8d05-29dcc5b27762"
      },
      "outputs": [
        {
          "name": "stdout",
          "output_type": "stream",
          "text": [
            "MARITALSTATUS\n",
            "EDUCATION\n",
            "GENDER\n",
            "last_prod_enq2\n",
            "first_prod_enq2\n",
            "Approved_Flag\n"
          ]
        }
      ],
      "source": [
        "# check how many columns are categorical\n",
        "\n",
        "for i in df.columns:\n",
        "  if df[i].dtype == 'object':\n",
        "    print(i)"
      ]
    },
    {
      "cell_type": "code",
      "execution_count": 96,
      "metadata": {
        "colab": {
          "base_uri": "https://localhost:8080/"
        },
        "id": "-kAgYlJXZiLM",
        "outputId": "e9aeb9d1-a072-48b1-dd0d-96c644c4fa64"
      },
      "outputs": [
        {
          "data": {
            "text/plain": [
              "MARITALSTATUS\n",
              "Married    30886\n",
              "Single     11178\n",
              "Name: count, dtype: int64"
            ]
          },
          "execution_count": 96,
          "metadata": {},
          "output_type": "execute_result"
        }
      ],
      "source": [
        "df['MARITALSTATUS'].value_counts()"
      ]
    },
    {
      "cell_type": "code",
      "execution_count": 97,
      "metadata": {
        "colab": {
          "base_uri": "https://localhost:8080/"
        },
        "id": "sLgz7Ga2cb2N",
        "outputId": "b270e93f-da47-463f-c031-62034a0f7812"
      },
      "outputs": [
        {
          "data": {
            "text/plain": [
              "EDUCATION\n",
              "GRADUATE          14140\n",
              "12TH              11703\n",
              "SSC                7241\n",
              "UNDER GRADUATE     4572\n",
              "OTHERS             2291\n",
              "POST-GRADUATE      1898\n",
              "PROFESSIONAL        219\n",
              "Name: count, dtype: int64"
            ]
          },
          "execution_count": 97,
          "metadata": {},
          "output_type": "execute_result"
        }
      ],
      "source": [
        "df['EDUCATION'].value_counts()"
      ]
    },
    {
      "cell_type": "markdown",
      "metadata": {},
      "source": [
        "## Hypothesis Testing for feature selection "
      ]
    },
    {
      "cell_type": "code",
      "execution_count": 98,
      "metadata": {
        "colab": {
          "base_uri": "https://localhost:8080/"
        },
        "id": "3fwN3s-IeqPg",
        "outputId": "cd7a40eb-af3e-4ff7-def0-477bdd378d18"
      },
      "outputs": [
        {
          "name": "stdout",
          "output_type": "stream",
          "text": [
            "MARITALSTATUS --- 3.578180861038862e-233\n",
            "EDUCATION --- 2.6942265249737532e-30\n",
            "GENDER --- 1.907936100186563e-05\n",
            "last_prod_enq2 --- 0.0\n",
            "first_prod_enq2 --- 7.84997610555419e-287\n"
          ]
        }
      ],
      "source": [
        "# feature selection for a categorical variables\n",
        "# chi-square test\n",
        "\n",
        "for i in ['MARITALSTATUS','EDUCATION','GENDER','last_prod_enq2','first_prod_enq2']:\n",
        "  chi2,pval,_,_= chi2_contingency(pd.crosstab(df[i],df['Approved_Flag']))\n",
        "  print(i,'---',pval)"
      ]
    },
    {
      "cell_type": "markdown",
      "metadata": {
        "id": "bZDuNSAZueJE"
      },
      "source": [
        "> Since all the categorical features have pval <=0.05, we will accept all...."
      ]
    },
    {
      "cell_type": "code",
      "execution_count": 99,
      "metadata": {
        "colab": {
          "base_uri": "https://localhost:8080/"
        },
        "collapsed": true,
        "id": "pOD57nuUty99",
        "outputId": "00a46bf9-2e6a-4ae9-af6b-dd2a62964913"
      },
      "outputs": [
        {
          "data": {
            "text/plain": [
              "['Total_TL',\n",
              " 'Tot_Closed_TL',\n",
              " 'Tot_Active_TL',\n",
              " 'Total_TL_opened_L6M',\n",
              " 'Tot_TL_closed_L6M',\n",
              " 'pct_tl_open_L6M',\n",
              " 'pct_tl_closed_L6M',\n",
              " 'pct_active_tl',\n",
              " 'pct_closed_tl',\n",
              " 'Total_TL_opened_L12M',\n",
              " 'Tot_TL_closed_L12M',\n",
              " 'pct_tl_open_L12M',\n",
              " 'pct_tl_closed_L12M',\n",
              " 'Tot_Missed_Pmnt',\n",
              " 'Auto_TL',\n",
              " 'CC_TL',\n",
              " 'Consumer_TL',\n",
              " 'Gold_TL',\n",
              " 'Home_TL',\n",
              " 'PL_TL',\n",
              " 'Secured_TL',\n",
              " 'Unsecured_TL',\n",
              " 'Other_TL',\n",
              " 'Age_Oldest_TL',\n",
              " 'Age_Newest_TL',\n",
              " 'time_since_recent_payment',\n",
              " 'num_times_delinquent',\n",
              " 'max_recent_level_of_deliq',\n",
              " 'num_deliq_6mts',\n",
              " 'num_deliq_12mts',\n",
              " 'num_deliq_6_12mts',\n",
              " 'num_times_30p_dpd',\n",
              " 'num_times_60p_dpd',\n",
              " 'num_std',\n",
              " 'num_std_6mts',\n",
              " 'num_std_12mts',\n",
              " 'num_sub',\n",
              " 'num_sub_6mts',\n",
              " 'num_sub_12mts',\n",
              " 'num_dbt',\n",
              " 'num_dbt_6mts',\n",
              " 'num_dbt_12mts',\n",
              " 'num_lss',\n",
              " 'num_lss_6mts',\n",
              " 'num_lss_12mts',\n",
              " 'recent_level_of_deliq',\n",
              " 'tot_enq',\n",
              " 'CC_enq',\n",
              " 'CC_enq_L6m',\n",
              " 'CC_enq_L12m',\n",
              " 'PL_enq',\n",
              " 'PL_enq_L6m',\n",
              " 'PL_enq_L12m',\n",
              " 'time_since_recent_enq',\n",
              " 'enq_L12m',\n",
              " 'enq_L6m',\n",
              " 'enq_L3m',\n",
              " 'AGE',\n",
              " 'NETMONTHLYINCOME',\n",
              " 'Time_With_Curr_Empr',\n",
              " 'pct_of_active_TLs_ever',\n",
              " 'pct_opened_TLs_L6m_of_L12m',\n",
              " 'pct_currentBal_all_TL',\n",
              " 'CC_Flag',\n",
              " 'PL_Flag',\n",
              " 'pct_PL_enq_L6m_of_L12m',\n",
              " 'pct_CC_enq_L6m_of_L12m',\n",
              " 'pct_PL_enq_L6m_of_ever',\n",
              " 'pct_CC_enq_L6m_of_ever',\n",
              " 'HL_Flag',\n",
              " 'GL_Flag',\n",
              " 'Credit_Score']"
            ]
          },
          "execution_count": 99,
          "metadata": {},
          "output_type": "execute_result"
        }
      ],
      "source": [
        "# finding numerical features # feature engineering\n",
        "\n",
        "# VIF for numerical columns\n",
        "numeric_columns = []\n",
        "for i in df.columns:\n",
        "  if df[i].dtype !='object' and i not  in ['PROSPECTID','Approved_Flag']:\n",
        "    numeric_columns.append(i)\n",
        "\n",
        "numeric_columns"
      ]
    },
    {
      "cell_type": "code",
      "execution_count": 100,
      "metadata": {
        "colab": {
          "base_uri": "https://localhost:8080/"
        },
        "collapsed": true,
        "id": "f2Cxjt7iw4xD",
        "outputId": "8e8eea88-ade3-4890-a80a-e3a32cb96990"
      },
      "outputs": [
        {
          "name": "stderr",
          "output_type": "stream",
          "text": [
            "C:\\Users\\HP\\AppData\\Roaming\\Python\\Python312\\site-packages\\statsmodels\\stats\\outliers_influence.py:197: RuntimeWarning: divide by zero encountered in scalar divide\n",
            "  vif = 1. / (1. - r_squared_i)\n"
          ]
        },
        {
          "name": "stdout",
          "output_type": "stream",
          "text": [
            "0 --- inf\n"
          ]
        },
        {
          "name": "stderr",
          "output_type": "stream",
          "text": [
            "C:\\Users\\HP\\AppData\\Roaming\\Python\\Python312\\site-packages\\statsmodels\\stats\\outliers_influence.py:197: RuntimeWarning: divide by zero encountered in scalar divide\n",
            "  vif = 1. / (1. - r_squared_i)\n"
          ]
        },
        {
          "name": "stdout",
          "output_type": "stream",
          "text": [
            "0 --- inf\n",
            "0 --- 11.320180023967996\n",
            "0 --- 8.363698035000336\n",
            "0 --- 6.520647877790928\n",
            "0 --- 5.149501618212625\n",
            "1 --- 2.611111040579735\n"
          ]
        },
        {
          "name": "stderr",
          "output_type": "stream",
          "text": [
            "C:\\Users\\HP\\AppData\\Roaming\\Python\\Python312\\site-packages\\statsmodels\\stats\\outliers_influence.py:197: RuntimeWarning: divide by zero encountered in scalar divide\n",
            "  vif = 1. / (1. - r_squared_i)\n"
          ]
        },
        {
          "name": "stdout",
          "output_type": "stream",
          "text": [
            "2 --- inf\n",
            "2 --- 1788.7926256209232\n",
            "2 --- 8.601028256477228\n",
            "2 --- 3.8328007921530785\n",
            "3 --- 6.099653381646739\n",
            "3 --- 5.581352009642762\n",
            "4 --- 1.985584353098778\n"
          ]
        },
        {
          "name": "stderr",
          "output_type": "stream",
          "text": [
            "C:\\Users\\HP\\AppData\\Roaming\\Python\\Python312\\site-packages\\statsmodels\\stats\\outliers_influence.py:197: RuntimeWarning: divide by zero encountered in scalar divide\n",
            "  vif = 1. / (1. - r_squared_i)\n"
          ]
        },
        {
          "name": "stdout",
          "output_type": "stream",
          "text": [
            "5 --- inf\n",
            "5 --- 4.809538302819343\n",
            "6 --- 23.270628983464636\n",
            "6 --- 30.595522588100053\n",
            "6 --- 4.3843464059655854\n",
            "7 --- 3.064658415523423\n",
            "8 --- 2.898639771299253\n",
            "9 --- 4.377876915347324\n",
            "10 --- 2.207853583695844\n",
            "11 --- 4.916914200506864\n",
            "12 --- 5.214702030064725\n",
            "13 --- 3.3861625024231476\n",
            "14 --- 7.840583309478997\n",
            "14 --- 5.255034641721438\n"
          ]
        },
        {
          "name": "stderr",
          "output_type": "stream",
          "text": [
            "C:\\Users\\HP\\AppData\\Roaming\\Python\\Python312\\site-packages\\statsmodels\\stats\\outliers_influence.py:197: RuntimeWarning: divide by zero encountered in scalar divide\n",
            "  vif = 1. / (1. - r_squared_i)\n"
          ]
        },
        {
          "name": "stdout",
          "output_type": "stream",
          "text": [
            "15 --- inf\n",
            "15 --- 7.380634506427232\n",
            "15 --- 1.4210050015175733\n",
            "16 --- 8.083255010190316\n",
            "16 --- 1.6241227524040112\n",
            "17 --- 7.257811920140003\n",
            "17 --- 15.59624383268298\n",
            "17 --- 1.825857047132431\n",
            "18 --- 1.5080839450032664\n",
            "19 --- 2.172088834824577\n",
            "20 --- 2.62339755352723\n",
            "21 --- 2.2959970812106176\n",
            "22 --- 7.360578319196439\n",
            "22 --- 2.1602387773102554\n",
            "23 --- 2.8686288267891458\n",
            "24 --- 6.458218003637277\n",
            "24 --- 2.8474118865638265\n",
            "25 --- 4.753198156284083\n",
            "26 --- 16.22735475594825\n",
            "26 --- 6.424377256363877\n",
            "26 --- 8.887080381808687\n",
            "26 --- 2.3804746142952653\n",
            "27 --- 8.609513476514548\n",
            "27 --- 13.06755093547673\n",
            "27 --- 3.500040056654654\n",
            "28 --- 1.9087955874813773\n",
            "29 --- 17.006562234161628\n",
            "29 --- 10.730485153719197\n",
            "29 --- 2.3538497522950275\n",
            "30 --- 22.104855915136433\n",
            "30 --- 2.7971639638512906\n",
            "31 --- 3.4241712032176985\n",
            "32 --- 10.175021454450935\n",
            "32 --- 6.408710354561301\n",
            "32 --- 1.001151196262561\n",
            "33 --- 3.069197305397274\n",
            "34 --- 2.8091261600643715\n",
            "35 --- 20.249538381980678\n",
            "35 --- 15.864576541593774\n",
            "35 --- 1.8331649740532172\n",
            "36 --- 1.5680839909542037\n",
            "37 --- 1.9307572353811682\n",
            "38 --- 4.331265056645247\n",
            "39 --- 9.390334396150173\n"
          ]
        }
      ],
      "source": [
        "# Vif Sequentially check\n",
        "vif_data = df[numeric_columns]\n",
        "total_columns = vif_data.shape[1]\n",
        "columns_to_be_kept = []\n",
        "column_index = 0\n",
        "\n",
        "for i in range (0,total_columns):\n",
        "  vif_value = variance_inflation_factor(vif_data,column_index)\n",
        "  print(column_index,'---',vif_value)\n",
        "\n",
        "  if vif_value <= 6 :\n",
        "    columns_to_be_kept.append(numeric_columns[i])\n",
        "    column_index = column_index+1\n",
        "\n",
        "  else:\n",
        "    vif_data = vif_data.drop([numeric_columns[i] ],axis=1)"
      ]
    },
    {
      "cell_type": "code",
      "execution_count": 101,
      "metadata": {
        "colab": {
          "base_uri": "https://localhost:8080/"
        },
        "id": "5xfpVE0-8P2U",
        "outputId": "b18870f4-e61b-434d-8def-9b1792c24da2"
      },
      "outputs": [
        {
          "data": {
            "text/plain": [
              "(42064, 39)"
            ]
          },
          "execution_count": 101,
          "metadata": {},
          "output_type": "execute_result"
        }
      ],
      "source": [
        "vif_data.shape"
      ]
    },
    {
      "cell_type": "code",
      "execution_count": 102,
      "metadata": {
        "id": "YG3KExVAAgaZ"
      },
      "outputs": [],
      "source": [
        "# check Anova for columns_to_be_kept\n",
        "\n",
        "from scipy.stats import f_oneway\n",
        "\n",
        "columns_to_be_kept_numerical = []\n",
        "\n",
        "for i in columns_to_be_kept:\n",
        "  a = list(df[i])\n",
        "  b = list(df['Approved_Flag'])\n",
        "  group_P1 = [value for value, group in zip(a, b) if group == 'P1']\n",
        "  group_P2 = [value for value, group in zip(a, b) if group == 'P2']\n",
        "  group_P3 = [value for value, group in zip(a, b) if group == 'P3']\n",
        "  group_P4 = [value for value, group in zip(a, b) if group == 'P4']\n",
        "\n",
        "\n",
        "  f_statistic, p_value = f_oneway(group_P1, group_P2, group_P3, group_P4)\n",
        "\n",
        "  if p_value <= 0.05:\n",
        "      columns_to_be_kept_numerical.append(i)\n",
        "\n"
      ]
    },
    {
      "cell_type": "code",
      "execution_count": 103,
      "metadata": {
        "colab": {
          "base_uri": "https://localhost:8080/"
        },
        "id": "RCkbbR5a3cZx",
        "outputId": "da390a39-837d-4958-fa9c-37baf108d3db"
      },
      "outputs": [
        {
          "data": {
            "text/plain": [
              "37"
            ]
          },
          "execution_count": 103,
          "metadata": {},
          "output_type": "execute_result"
        }
      ],
      "source": [
        "len(columns_to_be_kept_numerical)"
      ]
    },
    {
      "cell_type": "markdown",
      "metadata": {
        "id": "5MkXZlwtA2us"
      },
      "source": [
        "**Feature Selection is done for Categorical and Numerical Features**"
      ]
    },
    {
      "cell_type": "code",
      "execution_count": 104,
      "metadata": {
        "id": "WWrSY-FMId4B"
      },
      "outputs": [],
      "source": [
        "# listing all the final features\n",
        "features = columns_to_be_kept_numerical + ['MARITALSTATUS', 'EDUCATION', 'GENDER', 'last_prod_enq2', 'first_prod_enq2']\n",
        "df = df[features + ['Approved_Flag']]\n"
      ]
    },
    {
      "cell_type": "code",
      "execution_count": 105,
      "metadata": {
        "colab": {
          "base_uri": "https://localhost:8080/"
        },
        "id": "berazoCsIoNX",
        "outputId": "bd161ad1-1c63-4bc8-f42a-71d9a6b99a10"
      },
      "outputs": [
        {
          "data": {
            "text/plain": [
              "(42064, 43)"
            ]
          },
          "execution_count": 105,
          "metadata": {},
          "output_type": "execute_result"
        }
      ],
      "source": [
        "df.shape"
      ]
    },
    {
      "cell_type": "code",
      "execution_count": 106,
      "metadata": {
        "colab": {
          "base_uri": "https://localhost:8080/"
        },
        "id": "lUBY1akUCFEa",
        "outputId": "08132df4-8664-42e2-b2cc-9dffeb1c4b5b"
      },
      "outputs": [
        {
          "data": {
            "text/plain": [
              "['MARITALSTATUS', 'EDUCATION', 'GENDER', 'last_prod_enq2', 'first_prod_enq2']"
            ]
          },
          "execution_count": 106,
          "metadata": {},
          "output_type": "execute_result"
        }
      ],
      "source": [
        "# Label Encoding for the categorical features\n",
        "# Label encoding for the categorical features\n",
        "['MARITALSTATUS', 'EDUCATION', 'GENDER' , 'last_prod_enq2' ,'first_prod_enq2']"
      ]
    },
    {
      "cell_type": "code",
      "execution_count": 107,
      "metadata": {
        "colab": {
          "base_uri": "https://localhost:8080/"
        },
        "id": "UEWjdkksGmiK",
        "outputId": "417c472a-9b60-4cb1-c424-88f6e836cc86"
      },
      "outputs": [
        {
          "data": {
            "text/plain": [
              "array(['Married', 'Single'], dtype=object)"
            ]
          },
          "execution_count": 107,
          "metadata": {},
          "output_type": "execute_result"
        }
      ],
      "source": [
        "df['MARITALSTATUS'].unique()"
      ]
    },
    {
      "cell_type": "code",
      "execution_count": 108,
      "metadata": {
        "colab": {
          "base_uri": "https://localhost:8080/"
        },
        "id": "g9Oxt9wvCoRr",
        "outputId": "8fae0258-66ad-4802-b930-07455fc5aeec"
      },
      "outputs": [
        {
          "data": {
            "text/plain": [
              "array(['12TH', 'GRADUATE', 'SSC', 'POST-GRADUATE', 'UNDER GRADUATE',\n",
              "       'OTHERS', 'PROFESSIONAL'], dtype=object)"
            ]
          },
          "execution_count": 108,
          "metadata": {},
          "output_type": "execute_result"
        }
      ],
      "source": [
        "df['EDUCATION'].unique()\n"
      ]
    },
    {
      "cell_type": "code",
      "execution_count": 109,
      "metadata": {
        "colab": {
          "base_uri": "https://localhost:8080/"
        },
        "id": "xoC64v6uCqta",
        "outputId": "d9cd7cbb-9cff-4c3c-bc2c-f2fdf71e4922"
      },
      "outputs": [
        {
          "data": {
            "text/plain": [
              "array(['M', 'F'], dtype=object)"
            ]
          },
          "execution_count": 109,
          "metadata": {},
          "output_type": "execute_result"
        }
      ],
      "source": [
        "df['GENDER'].unique()\n"
      ]
    },
    {
      "cell_type": "code",
      "execution_count": 110,
      "metadata": {
        "colab": {
          "base_uri": "https://localhost:8080/"
        },
        "id": "WUuvZrajCsMY",
        "outputId": "81731a04-02f0-4c7f-eaa2-19cb8713e887"
      },
      "outputs": [
        {
          "data": {
            "text/plain": [
              "array(['PL', 'ConsumerLoan', 'AL', 'CC', 'others', 'HL'], dtype=object)"
            ]
          },
          "execution_count": 110,
          "metadata": {},
          "output_type": "execute_result"
        }
      ],
      "source": [
        "df['last_prod_enq2'].unique()\n"
      ]
    },
    {
      "cell_type": "code",
      "execution_count": 111,
      "metadata": {
        "colab": {
          "base_uri": "https://localhost:8080/"
        },
        "id": "TPqeuJbXCwdl",
        "outputId": "fcdb566a-a496-4b86-df72-86e71e97a77b"
      },
      "outputs": [
        {
          "data": {
            "text/plain": [
              "array(['PL', 'ConsumerLoan', 'others', 'AL', 'HL', 'CC'], dtype=object)"
            ]
          },
          "execution_count": 111,
          "metadata": {},
          "output_type": "execute_result"
        }
      ],
      "source": [
        "df['first_prod_enq2'].unique()"
      ]
    },
    {
      "cell_type": "markdown",
      "metadata": {
        "id": "djnrft5_FGbZ"
      },
      "source": [
        "WE Do Label Encoding with Education and with all other One hot coding"
      ]
    },
    {
      "cell_type": "code",
      "execution_count": 112,
      "metadata": {
        "id": "foBPkjnNCxUQ"
      },
      "outputs": [],
      "source": [
        "# Ordinal Feature -- Education\n",
        "# SSC : 1\n",
        "# 12TH : 2\n",
        "# Graduate : 3\n",
        "# Under Graduate : 3\n",
        "# Post Graduate : 4\n",
        "# others : 1\n",
        "# Professional : 3\n",
        "\n",
        "\n",
        "# Others has to be verified by the business end user"
      ]
    },
    {
      "cell_type": "code",
      "execution_count": 113,
      "metadata": {
        "id": "qdlgRx9xFYyB"
      },
      "outputs": [],
      "source": [
        "df.loc[df['EDUCATION'] == 'SSC',['EDUCATION']]              = 1\n",
        "df.loc[df['EDUCATION'] == '12TH',['EDUCATION']]             = 2\n",
        "df.loc[df['EDUCATION'] == 'GRADUATE',['EDUCATION']]         = 3\n",
        "df.loc[df['EDUCATION'] == 'UNDER GRADUATE',['EDUCATION']]   = 3\n",
        "df.loc[df['EDUCATION'] == 'POST-GRADUATE',['EDUCATION']]    = 4\n",
        "df.loc[df['EDUCATION'] == 'OTHERS',['EDUCATION']]           = 1\n",
        "df.loc[df['EDUCATION'] == 'PROFESSIONAL',['EDUCATION']]     = 3"
      ]
    },
    {
      "cell_type": "code",
      "execution_count": 114,
      "metadata": {
        "colab": {
          "base_uri": "https://localhost:8080/"
        },
        "id": "zQuzF_ZJGDaJ",
        "outputId": "abcbcf70-e4c3-47e1-80e1-71a5849806d6"
      },
      "outputs": [
        {
          "data": {
            "text/plain": [
              "EDUCATION\n",
              "3    18931\n",
              "2    11703\n",
              "1     9532\n",
              "4     1898\n",
              "Name: count, dtype: int64"
            ]
          },
          "execution_count": 114,
          "metadata": {},
          "output_type": "execute_result"
        }
      ],
      "source": [
        "df['EDUCATION'].value_counts()"
      ]
    },
    {
      "cell_type": "code",
      "execution_count": 115,
      "metadata": {
        "colab": {
          "base_uri": "https://localhost:8080/"
        },
        "collapsed": true,
        "id": "2sQhakX4GN2O",
        "outputId": "8036569e-e1e6-447b-8fcb-8ed1b3821f87"
      },
      "outputs": [
        {
          "name": "stdout",
          "output_type": "stream",
          "text": [
            "<class 'pandas.core.frame.DataFrame'>\n",
            "RangeIndex: 42064 entries, 0 to 42063\n",
            "Data columns (total 43 columns):\n",
            " #   Column                     Non-Null Count  Dtype  \n",
            "---  ------                     --------------  -----  \n",
            " 0   pct_tl_open_L6M            42064 non-null  float64\n",
            " 1   pct_tl_closed_L6M          42064 non-null  float64\n",
            " 2   Tot_TL_closed_L12M         42064 non-null  int64  \n",
            " 3   pct_tl_closed_L12M         42064 non-null  float64\n",
            " 4   Tot_Missed_Pmnt            42064 non-null  int64  \n",
            " 5   CC_TL                      42064 non-null  int64  \n",
            " 6   Home_TL                    42064 non-null  int64  \n",
            " 7   PL_TL                      42064 non-null  int64  \n",
            " 8   Secured_TL                 42064 non-null  int64  \n",
            " 9   Unsecured_TL               42064 non-null  int64  \n",
            " 10  Other_TL                   42064 non-null  int64  \n",
            " 11  Age_Oldest_TL              42064 non-null  int64  \n",
            " 12  Age_Newest_TL              42064 non-null  int64  \n",
            " 13  time_since_recent_payment  42064 non-null  int64  \n",
            " 14  max_recent_level_of_deliq  42064 non-null  int64  \n",
            " 15  num_deliq_6_12mts          42064 non-null  int64  \n",
            " 16  num_times_60p_dpd          42064 non-null  int64  \n",
            " 17  num_std_12mts              42064 non-null  int64  \n",
            " 18  num_sub                    42064 non-null  int64  \n",
            " 19  num_sub_6mts               42064 non-null  int64  \n",
            " 20  num_sub_12mts              42064 non-null  int64  \n",
            " 21  num_dbt                    42064 non-null  int64  \n",
            " 22  num_dbt_12mts              42064 non-null  int64  \n",
            " 23  num_lss                    42064 non-null  int64  \n",
            " 24  recent_level_of_deliq      42064 non-null  int64  \n",
            " 25  CC_enq_L12m                42064 non-null  int64  \n",
            " 26  PL_enq_L12m                42064 non-null  int64  \n",
            " 27  time_since_recent_enq      42064 non-null  int64  \n",
            " 28  enq_L3m                    42064 non-null  int64  \n",
            " 29  NETMONTHLYINCOME           42064 non-null  int64  \n",
            " 30  Time_With_Curr_Empr        42064 non-null  int64  \n",
            " 31  CC_Flag                    42064 non-null  int64  \n",
            " 32  PL_Flag                    42064 non-null  int64  \n",
            " 33  pct_PL_enq_L6m_of_ever     42064 non-null  float64\n",
            " 34  pct_CC_enq_L6m_of_ever     42064 non-null  float64\n",
            " 35  HL_Flag                    42064 non-null  int64  \n",
            " 36  GL_Flag                    42064 non-null  int64  \n",
            " 37  MARITALSTATUS              42064 non-null  object \n",
            " 38  EDUCATION                  42064 non-null  int32  \n",
            " 39  GENDER                     42064 non-null  object \n",
            " 40  last_prod_enq2             42064 non-null  object \n",
            " 41  first_prod_enq2            42064 non-null  object \n",
            " 42  Approved_Flag              42064 non-null  object \n",
            "dtypes: float64(5), int32(1), int64(32), object(5)\n",
            "memory usage: 13.6+ MB\n"
          ]
        }
      ],
      "source": [
        "df['EDUCATION'] = df['EDUCATION'].astype(int)\n",
        "df.info()"
      ]
    },
    {
      "cell_type": "markdown",
      "metadata": {
        "id": "jnc6Re-BHI5I"
      },
      "source": [
        "One Hot Encoding -- We Use get_dummies"
      ]
    },
    {
      "cell_type": "code",
      "execution_count": 116,
      "metadata": {
        "id": "yTKw4nglGulA"
      },
      "outputs": [],
      "source": [
        "df_encoded = pd.get_dummies(df, columns=['MARITALSTATUS','GENDER', 'last_prod_enq2' ,'first_prod_enq2'])"
      ]
    },
    {
      "cell_type": "code",
      "execution_count": 117,
      "metadata": {
        "colab": {
          "base_uri": "https://localhost:8080/",
          "height": 443
        },
        "id": "7CMvx7V_HenY",
        "outputId": "d38b06b4-bddf-4979-a3d2-dded90801d6e"
      },
      "outputs": [
        {
          "data": {
            "text/html": [
              "<div>\n",
              "<style scoped>\n",
              "    .dataframe tbody tr th:only-of-type {\n",
              "        vertical-align: middle;\n",
              "    }\n",
              "\n",
              "    .dataframe tbody tr th {\n",
              "        vertical-align: top;\n",
              "    }\n",
              "\n",
              "    .dataframe thead th {\n",
              "        text-align: right;\n",
              "    }\n",
              "</style>\n",
              "<table border=\"1\" class=\"dataframe\">\n",
              "  <thead>\n",
              "    <tr style=\"text-align: right;\">\n",
              "      <th></th>\n",
              "      <th>pct_tl_open_L6M</th>\n",
              "      <th>pct_tl_closed_L6M</th>\n",
              "      <th>Tot_TL_closed_L12M</th>\n",
              "      <th>pct_tl_closed_L12M</th>\n",
              "      <th>Tot_Missed_Pmnt</th>\n",
              "      <th>CC_TL</th>\n",
              "      <th>Home_TL</th>\n",
              "      <th>PL_TL</th>\n",
              "      <th>Secured_TL</th>\n",
              "      <th>Unsecured_TL</th>\n",
              "      <th>...</th>\n",
              "      <th>last_prod_enq2_ConsumerLoan</th>\n",
              "      <th>last_prod_enq2_HL</th>\n",
              "      <th>last_prod_enq2_PL</th>\n",
              "      <th>last_prod_enq2_others</th>\n",
              "      <th>first_prod_enq2_AL</th>\n",
              "      <th>first_prod_enq2_CC</th>\n",
              "      <th>first_prod_enq2_ConsumerLoan</th>\n",
              "      <th>first_prod_enq2_HL</th>\n",
              "      <th>first_prod_enq2_PL</th>\n",
              "      <th>first_prod_enq2_others</th>\n",
              "    </tr>\n",
              "  </thead>\n",
              "  <tbody>\n",
              "    <tr>\n",
              "      <th>0</th>\n",
              "      <td>0.000</td>\n",
              "      <td>0.00</td>\n",
              "      <td>0</td>\n",
              "      <td>0.000</td>\n",
              "      <td>0</td>\n",
              "      <td>0</td>\n",
              "      <td>0</td>\n",
              "      <td>4</td>\n",
              "      <td>1</td>\n",
              "      <td>4</td>\n",
              "      <td>...</td>\n",
              "      <td>False</td>\n",
              "      <td>False</td>\n",
              "      <td>True</td>\n",
              "      <td>False</td>\n",
              "      <td>False</td>\n",
              "      <td>False</td>\n",
              "      <td>False</td>\n",
              "      <td>False</td>\n",
              "      <td>True</td>\n",
              "      <td>False</td>\n",
              "    </tr>\n",
              "    <tr>\n",
              "      <th>1</th>\n",
              "      <td>0.000</td>\n",
              "      <td>0.00</td>\n",
              "      <td>0</td>\n",
              "      <td>0.000</td>\n",
              "      <td>0</td>\n",
              "      <td>0</td>\n",
              "      <td>0</td>\n",
              "      <td>0</td>\n",
              "      <td>0</td>\n",
              "      <td>1</td>\n",
              "      <td>...</td>\n",
              "      <td>True</td>\n",
              "      <td>False</td>\n",
              "      <td>False</td>\n",
              "      <td>False</td>\n",
              "      <td>False</td>\n",
              "      <td>False</td>\n",
              "      <td>True</td>\n",
              "      <td>False</td>\n",
              "      <td>False</td>\n",
              "      <td>False</td>\n",
              "    </tr>\n",
              "    <tr>\n",
              "      <th>2</th>\n",
              "      <td>0.125</td>\n",
              "      <td>0.00</td>\n",
              "      <td>0</td>\n",
              "      <td>0.000</td>\n",
              "      <td>1</td>\n",
              "      <td>0</td>\n",
              "      <td>0</td>\n",
              "      <td>0</td>\n",
              "      <td>2</td>\n",
              "      <td>6</td>\n",
              "      <td>...</td>\n",
              "      <td>True</td>\n",
              "      <td>False</td>\n",
              "      <td>False</td>\n",
              "      <td>False</td>\n",
              "      <td>False</td>\n",
              "      <td>False</td>\n",
              "      <td>False</td>\n",
              "      <td>False</td>\n",
              "      <td>False</td>\n",
              "      <td>True</td>\n",
              "    </tr>\n",
              "    <tr>\n",
              "      <th>3</th>\n",
              "      <td>0.000</td>\n",
              "      <td>0.00</td>\n",
              "      <td>0</td>\n",
              "      <td>0.000</td>\n",
              "      <td>0</td>\n",
              "      <td>0</td>\n",
              "      <td>0</td>\n",
              "      <td>0</td>\n",
              "      <td>3</td>\n",
              "      <td>0</td>\n",
              "      <td>...</td>\n",
              "      <td>False</td>\n",
              "      <td>False</td>\n",
              "      <td>False</td>\n",
              "      <td>False</td>\n",
              "      <td>True</td>\n",
              "      <td>False</td>\n",
              "      <td>False</td>\n",
              "      <td>False</td>\n",
              "      <td>False</td>\n",
              "      <td>False</td>\n",
              "    </tr>\n",
              "    <tr>\n",
              "      <th>4</th>\n",
              "      <td>0.000</td>\n",
              "      <td>0.00</td>\n",
              "      <td>1</td>\n",
              "      <td>0.167</td>\n",
              "      <td>0</td>\n",
              "      <td>0</td>\n",
              "      <td>0</td>\n",
              "      <td>0</td>\n",
              "      <td>6</td>\n",
              "      <td>0</td>\n",
              "      <td>...</td>\n",
              "      <td>True</td>\n",
              "      <td>False</td>\n",
              "      <td>False</td>\n",
              "      <td>False</td>\n",
              "      <td>False</td>\n",
              "      <td>False</td>\n",
              "      <td>False</td>\n",
              "      <td>False</td>\n",
              "      <td>True</td>\n",
              "      <td>False</td>\n",
              "    </tr>\n",
              "    <tr>\n",
              "      <th>...</th>\n",
              "      <td>...</td>\n",
              "      <td>...</td>\n",
              "      <td>...</td>\n",
              "      <td>...</td>\n",
              "      <td>...</td>\n",
              "      <td>...</td>\n",
              "      <td>...</td>\n",
              "      <td>...</td>\n",
              "      <td>...</td>\n",
              "      <td>...</td>\n",
              "      <td>...</td>\n",
              "      <td>...</td>\n",
              "      <td>...</td>\n",
              "      <td>...</td>\n",
              "      <td>...</td>\n",
              "      <td>...</td>\n",
              "      <td>...</td>\n",
              "      <td>...</td>\n",
              "      <td>...</td>\n",
              "      <td>...</td>\n",
              "      <td>...</td>\n",
              "    </tr>\n",
              "    <tr>\n",
              "      <th>42059</th>\n",
              "      <td>0.333</td>\n",
              "      <td>0.00</td>\n",
              "      <td>0</td>\n",
              "      <td>0.000</td>\n",
              "      <td>0</td>\n",
              "      <td>0</td>\n",
              "      <td>0</td>\n",
              "      <td>0</td>\n",
              "      <td>0</td>\n",
              "      <td>3</td>\n",
              "      <td>...</td>\n",
              "      <td>True</td>\n",
              "      <td>False</td>\n",
              "      <td>False</td>\n",
              "      <td>False</td>\n",
              "      <td>False</td>\n",
              "      <td>False</td>\n",
              "      <td>True</td>\n",
              "      <td>False</td>\n",
              "      <td>False</td>\n",
              "      <td>False</td>\n",
              "    </tr>\n",
              "    <tr>\n",
              "      <th>42060</th>\n",
              "      <td>0.000</td>\n",
              "      <td>0.25</td>\n",
              "      <td>1</td>\n",
              "      <td>0.250</td>\n",
              "      <td>0</td>\n",
              "      <td>0</td>\n",
              "      <td>0</td>\n",
              "      <td>0</td>\n",
              "      <td>2</td>\n",
              "      <td>2</td>\n",
              "      <td>...</td>\n",
              "      <td>False</td>\n",
              "      <td>False</td>\n",
              "      <td>False</td>\n",
              "      <td>True</td>\n",
              "      <td>False</td>\n",
              "      <td>False</td>\n",
              "      <td>False</td>\n",
              "      <td>False</td>\n",
              "      <td>False</td>\n",
              "      <td>True</td>\n",
              "    </tr>\n",
              "    <tr>\n",
              "      <th>42061</th>\n",
              "      <td>0.500</td>\n",
              "      <td>0.50</td>\n",
              "      <td>1</td>\n",
              "      <td>0.500</td>\n",
              "      <td>0</td>\n",
              "      <td>0</td>\n",
              "      <td>0</td>\n",
              "      <td>0</td>\n",
              "      <td>0</td>\n",
              "      <td>2</td>\n",
              "      <td>...</td>\n",
              "      <td>True</td>\n",
              "      <td>False</td>\n",
              "      <td>False</td>\n",
              "      <td>False</td>\n",
              "      <td>False</td>\n",
              "      <td>False</td>\n",
              "      <td>False</td>\n",
              "      <td>False</td>\n",
              "      <td>False</td>\n",
              "      <td>True</td>\n",
              "    </tr>\n",
              "    <tr>\n",
              "      <th>42062</th>\n",
              "      <td>0.000</td>\n",
              "      <td>0.00</td>\n",
              "      <td>1</td>\n",
              "      <td>0.500</td>\n",
              "      <td>0</td>\n",
              "      <td>0</td>\n",
              "      <td>0</td>\n",
              "      <td>0</td>\n",
              "      <td>0</td>\n",
              "      <td>2</td>\n",
              "      <td>...</td>\n",
              "      <td>True</td>\n",
              "      <td>False</td>\n",
              "      <td>False</td>\n",
              "      <td>False</td>\n",
              "      <td>False</td>\n",
              "      <td>False</td>\n",
              "      <td>False</td>\n",
              "      <td>False</td>\n",
              "      <td>False</td>\n",
              "      <td>True</td>\n",
              "    </tr>\n",
              "    <tr>\n",
              "      <th>42063</th>\n",
              "      <td>0.000</td>\n",
              "      <td>0.00</td>\n",
              "      <td>0</td>\n",
              "      <td>0.000</td>\n",
              "      <td>0</td>\n",
              "      <td>0</td>\n",
              "      <td>0</td>\n",
              "      <td>0</td>\n",
              "      <td>1</td>\n",
              "      <td>0</td>\n",
              "      <td>...</td>\n",
              "      <td>False</td>\n",
              "      <td>False</td>\n",
              "      <td>False</td>\n",
              "      <td>True</td>\n",
              "      <td>False</td>\n",
              "      <td>False</td>\n",
              "      <td>False</td>\n",
              "      <td>False</td>\n",
              "      <td>False</td>\n",
              "      <td>True</td>\n",
              "    </tr>\n",
              "  </tbody>\n",
              "</table>\n",
              "<p>42064 rows × 55 columns</p>\n",
              "</div>"
            ],
            "text/plain": [
              "       pct_tl_open_L6M  pct_tl_closed_L6M  Tot_TL_closed_L12M  \\\n",
              "0                0.000               0.00                   0   \n",
              "1                0.000               0.00                   0   \n",
              "2                0.125               0.00                   0   \n",
              "3                0.000               0.00                   0   \n",
              "4                0.000               0.00                   1   \n",
              "...                ...                ...                 ...   \n",
              "42059            0.333               0.00                   0   \n",
              "42060            0.000               0.25                   1   \n",
              "42061            0.500               0.50                   1   \n",
              "42062            0.000               0.00                   1   \n",
              "42063            0.000               0.00                   0   \n",
              "\n",
              "       pct_tl_closed_L12M  Tot_Missed_Pmnt  CC_TL  Home_TL  PL_TL  Secured_TL  \\\n",
              "0                   0.000                0      0        0      4           1   \n",
              "1                   0.000                0      0        0      0           0   \n",
              "2                   0.000                1      0        0      0           2   \n",
              "3                   0.000                0      0        0      0           3   \n",
              "4                   0.167                0      0        0      0           6   \n",
              "...                   ...              ...    ...      ...    ...         ...   \n",
              "42059               0.000                0      0        0      0           0   \n",
              "42060               0.250                0      0        0      0           2   \n",
              "42061               0.500                0      0        0      0           0   \n",
              "42062               0.500                0      0        0      0           0   \n",
              "42063               0.000                0      0        0      0           1   \n",
              "\n",
              "       Unsecured_TL  ...  last_prod_enq2_ConsumerLoan  last_prod_enq2_HL  \\\n",
              "0                 4  ...                        False              False   \n",
              "1                 1  ...                         True              False   \n",
              "2                 6  ...                         True              False   \n",
              "3                 0  ...                        False              False   \n",
              "4                 0  ...                         True              False   \n",
              "...             ...  ...                          ...                ...   \n",
              "42059             3  ...                         True              False   \n",
              "42060             2  ...                        False              False   \n",
              "42061             2  ...                         True              False   \n",
              "42062             2  ...                         True              False   \n",
              "42063             0  ...                        False              False   \n",
              "\n",
              "       last_prod_enq2_PL  last_prod_enq2_others  first_prod_enq2_AL  \\\n",
              "0                   True                  False               False   \n",
              "1                  False                  False               False   \n",
              "2                  False                  False               False   \n",
              "3                  False                  False                True   \n",
              "4                  False                  False               False   \n",
              "...                  ...                    ...                 ...   \n",
              "42059              False                  False               False   \n",
              "42060              False                   True               False   \n",
              "42061              False                  False               False   \n",
              "42062              False                  False               False   \n",
              "42063              False                   True               False   \n",
              "\n",
              "       first_prod_enq2_CC  first_prod_enq2_ConsumerLoan  first_prod_enq2_HL  \\\n",
              "0                   False                         False               False   \n",
              "1                   False                          True               False   \n",
              "2                   False                         False               False   \n",
              "3                   False                         False               False   \n",
              "4                   False                         False               False   \n",
              "...                   ...                           ...                 ...   \n",
              "42059               False                          True               False   \n",
              "42060               False                         False               False   \n",
              "42061               False                         False               False   \n",
              "42062               False                         False               False   \n",
              "42063               False                         False               False   \n",
              "\n",
              "       first_prod_enq2_PL  first_prod_enq2_others  \n",
              "0                    True                   False  \n",
              "1                   False                   False  \n",
              "2                   False                    True  \n",
              "3                   False                   False  \n",
              "4                    True                   False  \n",
              "...                   ...                     ...  \n",
              "42059               False                   False  \n",
              "42060               False                    True  \n",
              "42061               False                    True  \n",
              "42062               False                    True  \n",
              "42063               False                    True  \n",
              "\n",
              "[42064 rows x 55 columns]"
            ]
          },
          "execution_count": 117,
          "metadata": {},
          "output_type": "execute_result"
        }
      ],
      "source": [
        "df_encoded # final Dataset"
      ]
    },
    {
      "cell_type": "code",
      "execution_count": 118,
      "metadata": {
        "colab": {
          "base_uri": "https://localhost:8080/"
        },
        "id": "Pu6IeXWjHgR7",
        "outputId": "5b7b8374-2be5-4e1a-8d2f-21d6504f360a"
      },
      "outputs": [
        {
          "name": "stdout",
          "output_type": "stream",
          "text": [
            "<class 'pandas.core.frame.DataFrame'>\n",
            "RangeIndex: 42064 entries, 0 to 42063\n",
            "Data columns (total 55 columns):\n",
            " #   Column                        Non-Null Count  Dtype  \n",
            "---  ------                        --------------  -----  \n",
            " 0   pct_tl_open_L6M               42064 non-null  float64\n",
            " 1   pct_tl_closed_L6M             42064 non-null  float64\n",
            " 2   Tot_TL_closed_L12M            42064 non-null  int64  \n",
            " 3   pct_tl_closed_L12M            42064 non-null  float64\n",
            " 4   Tot_Missed_Pmnt               42064 non-null  int64  \n",
            " 5   CC_TL                         42064 non-null  int64  \n",
            " 6   Home_TL                       42064 non-null  int64  \n",
            " 7   PL_TL                         42064 non-null  int64  \n",
            " 8   Secured_TL                    42064 non-null  int64  \n",
            " 9   Unsecured_TL                  42064 non-null  int64  \n",
            " 10  Other_TL                      42064 non-null  int64  \n",
            " 11  Age_Oldest_TL                 42064 non-null  int64  \n",
            " 12  Age_Newest_TL                 42064 non-null  int64  \n",
            " 13  time_since_recent_payment     42064 non-null  int64  \n",
            " 14  max_recent_level_of_deliq     42064 non-null  int64  \n",
            " 15  num_deliq_6_12mts             42064 non-null  int64  \n",
            " 16  num_times_60p_dpd             42064 non-null  int64  \n",
            " 17  num_std_12mts                 42064 non-null  int64  \n",
            " 18  num_sub                       42064 non-null  int64  \n",
            " 19  num_sub_6mts                  42064 non-null  int64  \n",
            " 20  num_sub_12mts                 42064 non-null  int64  \n",
            " 21  num_dbt                       42064 non-null  int64  \n",
            " 22  num_dbt_12mts                 42064 non-null  int64  \n",
            " 23  num_lss                       42064 non-null  int64  \n",
            " 24  recent_level_of_deliq         42064 non-null  int64  \n",
            " 25  CC_enq_L12m                   42064 non-null  int64  \n",
            " 26  PL_enq_L12m                   42064 non-null  int64  \n",
            " 27  time_since_recent_enq         42064 non-null  int64  \n",
            " 28  enq_L3m                       42064 non-null  int64  \n",
            " 29  NETMONTHLYINCOME              42064 non-null  int64  \n",
            " 30  Time_With_Curr_Empr           42064 non-null  int64  \n",
            " 31  CC_Flag                       42064 non-null  int64  \n",
            " 32  PL_Flag                       42064 non-null  int64  \n",
            " 33  pct_PL_enq_L6m_of_ever        42064 non-null  float64\n",
            " 34  pct_CC_enq_L6m_of_ever        42064 non-null  float64\n",
            " 35  HL_Flag                       42064 non-null  int64  \n",
            " 36  GL_Flag                       42064 non-null  int64  \n",
            " 37  EDUCATION                     42064 non-null  int32  \n",
            " 38  Approved_Flag                 42064 non-null  object \n",
            " 39  MARITALSTATUS_Married         42064 non-null  bool   \n",
            " 40  MARITALSTATUS_Single          42064 non-null  bool   \n",
            " 41  GENDER_F                      42064 non-null  bool   \n",
            " 42  GENDER_M                      42064 non-null  bool   \n",
            " 43  last_prod_enq2_AL             42064 non-null  bool   \n",
            " 44  last_prod_enq2_CC             42064 non-null  bool   \n",
            " 45  last_prod_enq2_ConsumerLoan   42064 non-null  bool   \n",
            " 46  last_prod_enq2_HL             42064 non-null  bool   \n",
            " 47  last_prod_enq2_PL             42064 non-null  bool   \n",
            " 48  last_prod_enq2_others         42064 non-null  bool   \n",
            " 49  first_prod_enq2_AL            42064 non-null  bool   \n",
            " 50  first_prod_enq2_CC            42064 non-null  bool   \n",
            " 51  first_prod_enq2_ConsumerLoan  42064 non-null  bool   \n",
            " 52  first_prod_enq2_HL            42064 non-null  bool   \n",
            " 53  first_prod_enq2_PL            42064 non-null  bool   \n",
            " 54  first_prod_enq2_others        42064 non-null  bool   \n",
            "dtypes: bool(16), float64(5), int32(1), int64(32), object(1)\n",
            "memory usage: 13.0+ MB\n"
          ]
        }
      ],
      "source": [
        "df_encoded.info()"
      ]
    },
    {
      "cell_type": "code",
      "execution_count": 119,
      "metadata": {
        "colab": {
          "base_uri": "https://localhost:8080/",
          "height": 349
        },
        "id": "Q_Qha2HcJouu",
        "outputId": "365f52e3-c2a8-4f2d-a48a-de2e753023de"
      },
      "outputs": [
        {
          "data": {
            "text/html": [
              "<div>\n",
              "<style scoped>\n",
              "    .dataframe tbody tr th:only-of-type {\n",
              "        vertical-align: middle;\n",
              "    }\n",
              "\n",
              "    .dataframe tbody tr th {\n",
              "        vertical-align: top;\n",
              "    }\n",
              "\n",
              "    .dataframe thead th {\n",
              "        text-align: right;\n",
              "    }\n",
              "</style>\n",
              "<table border=\"1\" class=\"dataframe\">\n",
              "  <thead>\n",
              "    <tr style=\"text-align: right;\">\n",
              "      <th></th>\n",
              "      <th>pct_tl_open_L6M</th>\n",
              "      <th>pct_tl_closed_L6M</th>\n",
              "      <th>Tot_TL_closed_L12M</th>\n",
              "      <th>pct_tl_closed_L12M</th>\n",
              "      <th>Tot_Missed_Pmnt</th>\n",
              "      <th>CC_TL</th>\n",
              "      <th>Home_TL</th>\n",
              "      <th>PL_TL</th>\n",
              "      <th>Secured_TL</th>\n",
              "      <th>Unsecured_TL</th>\n",
              "      <th>...</th>\n",
              "      <th>enq_L3m</th>\n",
              "      <th>NETMONTHLYINCOME</th>\n",
              "      <th>Time_With_Curr_Empr</th>\n",
              "      <th>CC_Flag</th>\n",
              "      <th>PL_Flag</th>\n",
              "      <th>pct_PL_enq_L6m_of_ever</th>\n",
              "      <th>pct_CC_enq_L6m_of_ever</th>\n",
              "      <th>HL_Flag</th>\n",
              "      <th>GL_Flag</th>\n",
              "      <th>EDUCATION</th>\n",
              "    </tr>\n",
              "  </thead>\n",
              "  <tbody>\n",
              "    <tr>\n",
              "      <th>count</th>\n",
              "      <td>42064.000000</td>\n",
              "      <td>42064.000000</td>\n",
              "      <td>42064.000000</td>\n",
              "      <td>42064.000000</td>\n",
              "      <td>42064.000000</td>\n",
              "      <td>42064.000000</td>\n",
              "      <td>42064.000000</td>\n",
              "      <td>42064.000000</td>\n",
              "      <td>42064.000000</td>\n",
              "      <td>42064.000000</td>\n",
              "      <td>...</td>\n",
              "      <td>42064.000000</td>\n",
              "      <td>4.206400e+04</td>\n",
              "      <td>42064.000000</td>\n",
              "      <td>42064.000000</td>\n",
              "      <td>42064.000000</td>\n",
              "      <td>42064.000000</td>\n",
              "      <td>42064.000000</td>\n",
              "      <td>42064.000000</td>\n",
              "      <td>42064.000000</td>\n",
              "      <td>42064.000000</td>\n",
              "    </tr>\n",
              "    <tr>\n",
              "      <th>mean</th>\n",
              "      <td>0.179032</td>\n",
              "      <td>0.097783</td>\n",
              "      <td>0.825504</td>\n",
              "      <td>0.160365</td>\n",
              "      <td>0.525746</td>\n",
              "      <td>0.145921</td>\n",
              "      <td>0.076241</td>\n",
              "      <td>0.328000</td>\n",
              "      <td>2.921334</td>\n",
              "      <td>2.341646</td>\n",
              "      <td>...</td>\n",
              "      <td>1.230458</td>\n",
              "      <td>2.692990e+04</td>\n",
              "      <td>110.345783</td>\n",
              "      <td>0.102962</td>\n",
              "      <td>0.193063</td>\n",
              "      <td>0.195497</td>\n",
              "      <td>0.064186</td>\n",
              "      <td>0.252235</td>\n",
              "      <td>0.056580</td>\n",
              "      <td>2.313689</td>\n",
              "    </tr>\n",
              "    <tr>\n",
              "      <th>std</th>\n",
              "      <td>0.278043</td>\n",
              "      <td>0.210957</td>\n",
              "      <td>1.537208</td>\n",
              "      <td>0.258831</td>\n",
              "      <td>1.106442</td>\n",
              "      <td>0.549314</td>\n",
              "      <td>0.358582</td>\n",
              "      <td>0.916368</td>\n",
              "      <td>6.379764</td>\n",
              "      <td>3.405397</td>\n",
              "      <td>...</td>\n",
              "      <td>2.069461</td>\n",
              "      <td>2.084300e+04</td>\n",
              "      <td>75.629967</td>\n",
              "      <td>0.303913</td>\n",
              "      <td>0.394707</td>\n",
              "      <td>0.367414</td>\n",
              "      <td>0.225989</td>\n",
              "      <td>0.434300</td>\n",
              "      <td>0.231042</td>\n",
              "      <td>0.871070</td>\n",
              "    </tr>\n",
              "    <tr>\n",
              "      <th>min</th>\n",
              "      <td>0.000000</td>\n",
              "      <td>0.000000</td>\n",
              "      <td>0.000000</td>\n",
              "      <td>0.000000</td>\n",
              "      <td>0.000000</td>\n",
              "      <td>0.000000</td>\n",
              "      <td>0.000000</td>\n",
              "      <td>0.000000</td>\n",
              "      <td>0.000000</td>\n",
              "      <td>0.000000</td>\n",
              "      <td>...</td>\n",
              "      <td>0.000000</td>\n",
              "      <td>0.000000e+00</td>\n",
              "      <td>0.000000</td>\n",
              "      <td>0.000000</td>\n",
              "      <td>0.000000</td>\n",
              "      <td>0.000000</td>\n",
              "      <td>0.000000</td>\n",
              "      <td>0.000000</td>\n",
              "      <td>0.000000</td>\n",
              "      <td>1.000000</td>\n",
              "    </tr>\n",
              "    <tr>\n",
              "      <th>25%</th>\n",
              "      <td>0.000000</td>\n",
              "      <td>0.000000</td>\n",
              "      <td>0.000000</td>\n",
              "      <td>0.000000</td>\n",
              "      <td>0.000000</td>\n",
              "      <td>0.000000</td>\n",
              "      <td>0.000000</td>\n",
              "      <td>0.000000</td>\n",
              "      <td>0.000000</td>\n",
              "      <td>0.000000</td>\n",
              "      <td>...</td>\n",
              "      <td>0.000000</td>\n",
              "      <td>1.800000e+04</td>\n",
              "      <td>61.000000</td>\n",
              "      <td>0.000000</td>\n",
              "      <td>0.000000</td>\n",
              "      <td>0.000000</td>\n",
              "      <td>0.000000</td>\n",
              "      <td>0.000000</td>\n",
              "      <td>0.000000</td>\n",
              "      <td>2.000000</td>\n",
              "    </tr>\n",
              "    <tr>\n",
              "      <th>50%</th>\n",
              "      <td>0.000000</td>\n",
              "      <td>0.000000</td>\n",
              "      <td>0.000000</td>\n",
              "      <td>0.000000</td>\n",
              "      <td>0.000000</td>\n",
              "      <td>0.000000</td>\n",
              "      <td>0.000000</td>\n",
              "      <td>0.000000</td>\n",
              "      <td>1.000000</td>\n",
              "      <td>1.000000</td>\n",
              "      <td>...</td>\n",
              "      <td>1.000000</td>\n",
              "      <td>2.400000e+04</td>\n",
              "      <td>92.000000</td>\n",
              "      <td>0.000000</td>\n",
              "      <td>0.000000</td>\n",
              "      <td>0.000000</td>\n",
              "      <td>0.000000</td>\n",
              "      <td>0.000000</td>\n",
              "      <td>0.000000</td>\n",
              "      <td>2.000000</td>\n",
              "    </tr>\n",
              "    <tr>\n",
              "      <th>75%</th>\n",
              "      <td>0.333000</td>\n",
              "      <td>0.100000</td>\n",
              "      <td>1.000000</td>\n",
              "      <td>0.250000</td>\n",
              "      <td>1.000000</td>\n",
              "      <td>0.000000</td>\n",
              "      <td>0.000000</td>\n",
              "      <td>0.000000</td>\n",
              "      <td>3.000000</td>\n",
              "      <td>3.000000</td>\n",
              "      <td>...</td>\n",
              "      <td>2.000000</td>\n",
              "      <td>3.100000e+04</td>\n",
              "      <td>131.000000</td>\n",
              "      <td>0.000000</td>\n",
              "      <td>0.000000</td>\n",
              "      <td>0.000000</td>\n",
              "      <td>0.000000</td>\n",
              "      <td>1.000000</td>\n",
              "      <td>0.000000</td>\n",
              "      <td>3.000000</td>\n",
              "    </tr>\n",
              "    <tr>\n",
              "      <th>max</th>\n",
              "      <td>1.000000</td>\n",
              "      <td>1.000000</td>\n",
              "      <td>33.000000</td>\n",
              "      <td>1.000000</td>\n",
              "      <td>34.000000</td>\n",
              "      <td>27.000000</td>\n",
              "      <td>10.000000</td>\n",
              "      <td>29.000000</td>\n",
              "      <td>235.000000</td>\n",
              "      <td>55.000000</td>\n",
              "      <td>...</td>\n",
              "      <td>42.000000</td>\n",
              "      <td>2.500000e+06</td>\n",
              "      <td>1020.000000</td>\n",
              "      <td>1.000000</td>\n",
              "      <td>1.000000</td>\n",
              "      <td>1.000000</td>\n",
              "      <td>1.000000</td>\n",
              "      <td>1.000000</td>\n",
              "      <td>1.000000</td>\n",
              "      <td>4.000000</td>\n",
              "    </tr>\n",
              "  </tbody>\n",
              "</table>\n",
              "<p>8 rows × 38 columns</p>\n",
              "</div>"
            ],
            "text/plain": [
              "       pct_tl_open_L6M  pct_tl_closed_L6M  Tot_TL_closed_L12M  \\\n",
              "count     42064.000000       42064.000000        42064.000000   \n",
              "mean          0.179032           0.097783            0.825504   \n",
              "std           0.278043           0.210957            1.537208   \n",
              "min           0.000000           0.000000            0.000000   \n",
              "25%           0.000000           0.000000            0.000000   \n",
              "50%           0.000000           0.000000            0.000000   \n",
              "75%           0.333000           0.100000            1.000000   \n",
              "max           1.000000           1.000000           33.000000   \n",
              "\n",
              "       pct_tl_closed_L12M  Tot_Missed_Pmnt         CC_TL       Home_TL  \\\n",
              "count        42064.000000     42064.000000  42064.000000  42064.000000   \n",
              "mean             0.160365         0.525746      0.145921      0.076241   \n",
              "std              0.258831         1.106442      0.549314      0.358582   \n",
              "min              0.000000         0.000000      0.000000      0.000000   \n",
              "25%              0.000000         0.000000      0.000000      0.000000   \n",
              "50%              0.000000         0.000000      0.000000      0.000000   \n",
              "75%              0.250000         1.000000      0.000000      0.000000   \n",
              "max              1.000000        34.000000     27.000000     10.000000   \n",
              "\n",
              "              PL_TL    Secured_TL  Unsecured_TL  ...       enq_L3m  \\\n",
              "count  42064.000000  42064.000000  42064.000000  ...  42064.000000   \n",
              "mean       0.328000      2.921334      2.341646  ...      1.230458   \n",
              "std        0.916368      6.379764      3.405397  ...      2.069461   \n",
              "min        0.000000      0.000000      0.000000  ...      0.000000   \n",
              "25%        0.000000      0.000000      0.000000  ...      0.000000   \n",
              "50%        0.000000      1.000000      1.000000  ...      1.000000   \n",
              "75%        0.000000      3.000000      3.000000  ...      2.000000   \n",
              "max       29.000000    235.000000     55.000000  ...     42.000000   \n",
              "\n",
              "       NETMONTHLYINCOME  Time_With_Curr_Empr       CC_Flag       PL_Flag  \\\n",
              "count      4.206400e+04         42064.000000  42064.000000  42064.000000   \n",
              "mean       2.692990e+04           110.345783      0.102962      0.193063   \n",
              "std        2.084300e+04            75.629967      0.303913      0.394707   \n",
              "min        0.000000e+00             0.000000      0.000000      0.000000   \n",
              "25%        1.800000e+04            61.000000      0.000000      0.000000   \n",
              "50%        2.400000e+04            92.000000      0.000000      0.000000   \n",
              "75%        3.100000e+04           131.000000      0.000000      0.000000   \n",
              "max        2.500000e+06          1020.000000      1.000000      1.000000   \n",
              "\n",
              "       pct_PL_enq_L6m_of_ever  pct_CC_enq_L6m_of_ever       HL_Flag  \\\n",
              "count            42064.000000            42064.000000  42064.000000   \n",
              "mean                 0.195497                0.064186      0.252235   \n",
              "std                  0.367414                0.225989      0.434300   \n",
              "min                  0.000000                0.000000      0.000000   \n",
              "25%                  0.000000                0.000000      0.000000   \n",
              "50%                  0.000000                0.000000      0.000000   \n",
              "75%                  0.000000                0.000000      1.000000   \n",
              "max                  1.000000                1.000000      1.000000   \n",
              "\n",
              "            GL_Flag     EDUCATION  \n",
              "count  42064.000000  42064.000000  \n",
              "mean       0.056580      2.313689  \n",
              "std        0.231042      0.871070  \n",
              "min        0.000000      1.000000  \n",
              "25%        0.000000      2.000000  \n",
              "50%        0.000000      2.000000  \n",
              "75%        0.000000      3.000000  \n",
              "max        1.000000      4.000000  \n",
              "\n",
              "[8 rows x 38 columns]"
            ]
          },
          "execution_count": 119,
          "metadata": {},
          "output_type": "execute_result"
        }
      ],
      "source": [
        "k = df_encoded.describe()\n",
        "k"
      ]
    },
    {
      "cell_type": "markdown",
      "metadata": {
        "id": "Lq0hi-wVJ8lj"
      },
      "source": [
        "### Machine Learning Model Fitting"
      ]
    },
    {
      "cell_type": "code",
      "execution_count": 120,
      "metadata": {
        "colab": {
          "base_uri": "https://localhost:8080/"
        },
        "id": "P1qYJxOoJ27d",
        "outputId": "7993f3b0-60e5-4e74-903d-29ad45592f64"
      },
      "outputs": [
        {
          "name": "stdout",
          "output_type": "stream",
          "text": [
            "\n",
            "Accuracy: 0.7636990372043266\n",
            "\n",
            "Class p1:\n",
            "Precision: 0.8370457209847597\n",
            "Recall: 0.7041420118343196\n",
            "F1 Score: 0.7648634172469202\n",
            "\n",
            "Class p2:\n",
            "Precision: 0.7957519116397621\n",
            "Recall: 0.9282457879088206\n",
            "F1 Score: 0.856907593778591\n",
            "\n",
            "Class p3:\n",
            "Precision: 0.4423380726698262\n",
            "Recall: 0.21132075471698114\n",
            "F1 Score: 0.28600612870275793\n",
            "\n",
            "Class p4:\n",
            "Precision: 0.7178502879078695\n",
            "Recall: 0.7269193391642371\n",
            "F1 Score: 0.7223563495895703\n",
            "\n"
          ]
        }
      ],
      "source": [
        "# Data Processing\n",
        "# 1. Random Forest\n",
        "\n",
        "y = df_encoded['Approved_Flag']\n",
        "x = df_encoded. drop ( ['Approved_Flag'], axis = 1 )\n",
        "\n",
        "# why random_state -- 42 It is completely random u can anything\n",
        "x_train, x_test, y_train, y_test = train_test_split(x, y, test_size=0.2, random_state=42)\n",
        "\n",
        "rf_classifier = RandomForestClassifier(n_estimators = 200, random_state=42)\n",
        "# base Learners -- 200\n",
        "rf_classifier.fit(x_train, y_train)\n",
        "\n",
        "\n",
        "\n",
        "y_pred = rf_classifier.predict(x_test)\n",
        "\n",
        "\n",
        "accuracy = accuracy_score(y_test, y_pred)\n",
        "print ()\n",
        "print(f'Accuracy: {accuracy}')\n",
        "print ()\n",
        "precision, recall, f1_score, _ = precision_recall_fscore_support(y_test, y_pred)\n",
        "\n",
        "\n",
        "for i, v in enumerate(['p1', 'p2', 'p3', 'p4']):\n",
        "    print(f\"Class {v}:\")\n",
        "    print(f\"Precision: {precision[i]}\")\n",
        "    print(f\"Recall: {recall[i]}\")\n",
        "    print(f\"F1 Score: {f1_score[i]}\")\n",
        "    print()\n"
      ]
    },
    {
      "cell_type": "markdown",
      "metadata": {
        "id": "IFtg9t-tNnax"
      },
      "source": [
        "> F1 score = 2*p*r/(p+r)"
      ]
    },
    {
      "cell_type": "code",
      "execution_count": 121,
      "metadata": {
        "colab": {
          "base_uri": "https://localhost:8080/"
        },
        "id": "oGFmlL4eNCOP",
        "outputId": "62dc8c9c-576b-4e1f-8170-aa0ba8169a4c"
      },
      "outputs": [
        {
          "name": "stdout",
          "output_type": "stream",
          "text": [
            "\n",
            "Accuracy: 0.78\n",
            "\n",
            "Class p1:\n",
            "Precision: 0.823906083244397\n",
            "Recall: 0.7613412228796844\n",
            "F1 Score: 0.7913890312660175\n",
            "\n",
            "Class p2:\n",
            "Precision: 0.8255418233924413\n",
            "Recall: 0.913577799801784\n",
            "F1 Score: 0.8673315769665035\n",
            "\n",
            "Class p3:\n",
            "Precision: 0.4756380510440835\n",
            "Recall: 0.30943396226415093\n",
            "F1 Score: 0.37494284407864653\n",
            "\n",
            "Class p4:\n",
            "Precision: 0.7342386032977691\n",
            "Recall: 0.7356656948493683\n",
            "F1 Score: 0.7349514563106796\n",
            "\n"
          ]
        }
      ],
      "source": [
        "# 2. xgboost\n",
        "\n",
        "import xgboost as xgb\n",
        "from sklearn.preprocessing import LabelEncoder\n",
        "\n",
        "xgb_classifier = xgb.XGBClassifier(objective='multi:softmax',  num_class=4)\n",
        "\n",
        "y = df_encoded['Approved_Flag']\n",
        "x = df_encoded. drop ( ['Approved_Flag'], axis = 1 )\n",
        "\n",
        "\n",
        "label_encoder = LabelEncoder()\n",
        "y_encoded = label_encoder.fit_transform(y)\n",
        "\n",
        "\n",
        "x_train, x_test, y_train, y_test = train_test_split(x, y_encoded, test_size=0.2, random_state=42)\n",
        "\n",
        "xgb_classifier.fit(x_train, y_train)\n",
        "y_pred = xgb_classifier.predict(x_test)\n",
        "\n",
        "accuracy = accuracy_score(y_test, y_pred)\n",
        "print ()\n",
        "print(f'Accuracy: {accuracy:.2f}')\n",
        "print ()\n",
        "\n",
        "precision, recall, f1_score, _ = precision_recall_fscore_support(y_test, y_pred)\n",
        "\n",
        "for i, v in enumerate(['p1', 'p2', 'p3', 'p4']):\n",
        "    print(f\"Class {v}:\")\n",
        "    print(f\"Precision: {precision[i]}\")\n",
        "    print(f\"Recall: {recall[i]}\")\n",
        "    print(f\"F1 Score: {f1_score[i]}\")\n",
        "    print()\n"
      ]
    },
    {
      "cell_type": "code",
      "execution_count": 122,
      "metadata": {
        "colab": {
          "base_uri": "https://localhost:8080/"
        },
        "id": "Hg41wWcCOyRR",
        "outputId": "577517d4-89dc-498e-fcc1-d0eacdeefbb0"
      },
      "outputs": [
        {
          "name": "stdout",
          "output_type": "stream",
          "text": [
            "\n",
            "Accuracy: 0.71\n",
            "\n",
            "Class p1:\n",
            "Precision: 0.7205882352941176\n",
            "Recall: 0.7248520710059172\n",
            "F1 Score: 0.7227138643067846\n",
            "\n",
            "Class p2:\n",
            "Precision: 0.8088776894747044\n",
            "Recall: 0.8271555996035679\n",
            "F1 Score: 0.8179145433163465\n",
            "\n",
            "Class p3:\n",
            "Precision: 0.3437250199840128\n",
            "Recall: 0.32452830188679244\n",
            "F1 Score: 0.3338509316770186\n",
            "\n",
            "Class p4:\n",
            "Precision: 0.6531027466937945\n",
            "Recall: 0.6239067055393586\n",
            "F1 Score: 0.6381709741550696\n",
            "\n"
          ]
        }
      ],
      "source": [
        "# 3. Decision Tree\n",
        "from sklearn.tree import DecisionTreeClassifier\n",
        "\n",
        "\n",
        "y = df_encoded['Approved_Flag']\n",
        "x = df_encoded. drop ( ['Approved_Flag'], axis = 1 )\n",
        "\n",
        "x_train, x_test, y_train, y_test = train_test_split(x, y, test_size=0.2, random_state=42)\n",
        "\n",
        "\n",
        "dt_model = DecisionTreeClassifier(max_depth=20, min_samples_split=10)\n",
        "dt_model.fit(x_train, y_train)\n",
        "y_pred = dt_model.predict(x_test)\n",
        "\n",
        "accuracy = accuracy_score(y_test, y_pred)\n",
        "print ()\n",
        "print(f\"Accuracy: {accuracy:.2f}\")\n",
        "print ()\n",
        "\n",
        "precision, recall, f1_score, _ = precision_recall_fscore_support(y_test, y_pred)\n",
        "\n",
        "for i, v in enumerate(['p1', 'p2', 'p3', 'p4']):\n",
        "    print(f\"Class {v}:\")\n",
        "    print(f\"Precision: {precision[i]}\")\n",
        "    print(f\"Recall: {recall[i]}\")\n",
        "    print(f\"F1 Score: {f1_score[i]}\")\n",
        "    print()"
      ]
    },
    {
      "cell_type": "markdown",
      "metadata": {
        "id": "iYmjnXA76DZM"
      },
      "source": [
        "## Accuracy of the Model \n",
        "\n",
        "\n",
        "*   Random Forest -- 0.76\n",
        "*   XGBoost       -- 0.78\n",
        "*   Decision Tree -- 0.71\n",
        "\n",
        "**Accuracy values,XGBoost is better**\n"
      ]
    },
    {
      "cell_type": "markdown",
      "metadata": {
        "id": "-Du2jT8kgTnW"
      },
      "source": [
        "# Hyperparameter tuning in XGBoost"
      ]
    },
    {
      "cell_type": "code",
      "execution_count": 123,
      "metadata": {
        "colab": {
          "base_uri": "https://localhost:8080/"
        },
        "id": "GhwkeeBm6BMr",
        "outputId": "07457b03-1a2a-4ff0-cb38-d93b7f55d4a1"
      },
      "outputs": [
        {
          "name": "stdout",
          "output_type": "stream",
          "text": [
            "Combination 720\n",
            "colsample_bytree: 0.9, learning_rate: 1, max_depth: 10, alpha: 100, n_estimators: 100\n",
            "Train Accuracy: 0.79\n",
            "Test Accuracy : 0.77\n",
            "------------------------------\n"
          ]
        }
      ],
      "source": [
        "# Hyperparameter tuning for xgboost (Used in the session)\n",
        "\n",
        "# Define the hyperparameter grid\n",
        "param_grid = {\n",
        "  'colsample_bytree': [0.1, 0.3, 0.5, 0.7, 0.9],\n",
        "  'learning_rate'   : [0.001, 0.01, 0.1, 1],\n",
        "  'max_depth'       : [3, 5, 8, 10],\n",
        "  'alpha'           : [1, 10, 100],\n",
        "  'n_estimators'    : [10,50,100]\n",
        "}\n",
        "\n",
        "index = 0\n",
        "\n",
        "answers_grid = {\n",
        "    'combination'       :[],\n",
        "    'train_Accuracy'    :[],\n",
        "    'test_Accuracy'     :[],\n",
        "    'colsample_bytree'  :[],\n",
        "    'learning_rate'     :[],\n",
        "    'max_depth'         :[],\n",
        "    'alpha'             :[],\n",
        "    'n_estimators'      :[]\n",
        "\n",
        "}\n",
        "\n",
        "# Loop through each combination of hyperparameters\n",
        "for colsample_bytree in param_grid['colsample_bytree']:\n",
        " for learning_rate in param_grid['learning_rate']:\n",
        "  for max_depth in param_grid['max_depth']:\n",
        "   for alpha in param_grid['alpha']:\n",
        "     for n_estimators in param_grid['n_estimators']:\n",
        "        index = index + 1\n",
        "\n",
        "# Define and train the XGBoost model\n",
        "model = xgb.XGBClassifier(objective='multi:softmax',\n",
        "                        num_class=4,\n",
        "                        colsample_bytree = colsample_bytree,\n",
        "                        learning_rate = learning_rate,\n",
        "                        max_depth = max_depth,\n",
        "                        alpha = alpha,\n",
        "                        n_estimators = n_estimators)\n",
        "\n",
        "\n",
        "\n",
        "y = df_encoded['Approved_Flag']\n",
        "x = df_encoded. drop ( ['Approved_Flag'], axis = 1 )\n",
        "\n",
        "label_encoder = LabelEncoder()\n",
        "y_encoded = label_encoder.fit_transform(y)\n",
        "\n",
        "\n",
        "x_train, x_test, y_train, y_test = train_test_split(x, y_encoded, test_size=0.2, random_state=42)\n",
        "\n",
        "\n",
        "model.fit(x_train, y_train)\n",
        "\n",
        "\n",
        "\n",
        "# Predict on training and testing sets\n",
        "y_pred_train = model.predict(x_train)\n",
        "y_pred_test = model.predict(x_test)\n",
        "\n",
        "\n",
        "# Calculate train and test results\n",
        "\n",
        "train_accuracy =  accuracy_score (y_train, y_pred_train)\n",
        "test_accuracy  =  accuracy_score (y_test , y_pred_test)\n",
        "\n",
        "\n",
        "\n",
        "# Include into the lists\n",
        "answers_grid ['combination']   .append(index)\n",
        "answers_grid ['train_Accuracy']    .append(train_accuracy)\n",
        "answers_grid ['test_Accuracy']     .append(test_accuracy)\n",
        "answers_grid ['colsample_bytree']   .append(colsample_bytree)\n",
        "answers_grid ['learning_rate']      .append(learning_rate)\n",
        "answers_grid ['max_depth']          .append(max_depth)\n",
        "answers_grid ['alpha']              .append(alpha)\n",
        "answers_grid ['n_estimators']       .append(n_estimators)\n",
        "\n",
        "\n",
        "# Print results for this combination\n",
        "print(f\"Combination {index}\")\n",
        "print(f\"colsample_bytree: {colsample_bytree}, learning_rate: {learning_rate}, max_depth: {max_depth}, alpha: {alpha}, n_estimators: {n_estimators}\")\n",
        "print(f\"Train Accuracy: {train_accuracy:.2f}\")\n",
        "print(f\"Test Accuracy : {test_accuracy :.2f}\")\n",
        "print(\"-\" * 30)"
      ]
    },
    {
      "cell_type": "markdown",
      "metadata": {},
      "source": [
        "### Predicting Model for New Data "
      ]
    },
    {
      "cell_type": "code",
      "execution_count": 124,
      "metadata": {
        "id": "KXtTOpVkAOi0"
      },
      "outputs": [],
      "source": [
        "# Predict for unseen data\n",
        "\n",
        "a3 = pd.read_excel(\"C:/Users/HP/Desktop/Data Engineering/Credit_Risk_Modelling_Using ML/Material_Session 04/Unseen_Dataset.xlsx\")\n",
        "\n",
        "cols_in_df = list(df.columns)\n",
        "cols_in_df.pop(42)\n",
        "\n",
        "df_unseen= a3[cols_in_df]"
      ]
    },
    {
      "cell_type": "code",
      "execution_count": 125,
      "metadata": {
        "colab": {
          "base_uri": "https://localhost:8080/",
          "height": 461
        },
        "collapsed": true,
        "id": "1r3pXDYKATR9",
        "outputId": "14d226ca-83cc-4819-ad3a-553c239b1190"
      },
      "outputs": [
        {
          "data": {
            "text/html": [
              "<div>\n",
              "<style scoped>\n",
              "    .dataframe tbody tr th:only-of-type {\n",
              "        vertical-align: middle;\n",
              "    }\n",
              "\n",
              "    .dataframe tbody tr th {\n",
              "        vertical-align: top;\n",
              "    }\n",
              "\n",
              "    .dataframe thead th {\n",
              "        text-align: right;\n",
              "    }\n",
              "</style>\n",
              "<table border=\"1\" class=\"dataframe\">\n",
              "  <thead>\n",
              "    <tr style=\"text-align: right;\">\n",
              "      <th></th>\n",
              "      <th>pct_tl_open_L6M</th>\n",
              "      <th>pct_tl_closed_L6M</th>\n",
              "      <th>Tot_TL_closed_L12M</th>\n",
              "      <th>pct_tl_closed_L12M</th>\n",
              "      <th>Tot_Missed_Pmnt</th>\n",
              "      <th>CC_TL</th>\n",
              "      <th>Home_TL</th>\n",
              "      <th>PL_TL</th>\n",
              "      <th>Secured_TL</th>\n",
              "      <th>Unsecured_TL</th>\n",
              "      <th>...</th>\n",
              "      <th>PL_Flag</th>\n",
              "      <th>pct_PL_enq_L6m_of_ever</th>\n",
              "      <th>pct_CC_enq_L6m_of_ever</th>\n",
              "      <th>HL_Flag</th>\n",
              "      <th>GL_Flag</th>\n",
              "      <th>MARITALSTATUS</th>\n",
              "      <th>EDUCATION</th>\n",
              "      <th>GENDER</th>\n",
              "      <th>last_prod_enq2</th>\n",
              "      <th>first_prod_enq2</th>\n",
              "    </tr>\n",
              "  </thead>\n",
              "  <tbody>\n",
              "    <tr>\n",
              "      <th>0</th>\n",
              "      <td>0.000</td>\n",
              "      <td>0.0</td>\n",
              "      <td>0</td>\n",
              "      <td>0.000</td>\n",
              "      <td>0</td>\n",
              "      <td>0</td>\n",
              "      <td>0</td>\n",
              "      <td>4</td>\n",
              "      <td>1</td>\n",
              "      <td>4</td>\n",
              "      <td>...</td>\n",
              "      <td>1</td>\n",
              "      <td>0.000</td>\n",
              "      <td>0.0</td>\n",
              "      <td>1</td>\n",
              "      <td>0</td>\n",
              "      <td>Married</td>\n",
              "      <td>12TH</td>\n",
              "      <td>M</td>\n",
              "      <td>PL</td>\n",
              "      <td>PL</td>\n",
              "    </tr>\n",
              "    <tr>\n",
              "      <th>1</th>\n",
              "      <td>0.000</td>\n",
              "      <td>0.0</td>\n",
              "      <td>0</td>\n",
              "      <td>0.000</td>\n",
              "      <td>0</td>\n",
              "      <td>0</td>\n",
              "      <td>0</td>\n",
              "      <td>0</td>\n",
              "      <td>0</td>\n",
              "      <td>1</td>\n",
              "      <td>...</td>\n",
              "      <td>0</td>\n",
              "      <td>0.000</td>\n",
              "      <td>0.0</td>\n",
              "      <td>0</td>\n",
              "      <td>0</td>\n",
              "      <td>Single</td>\n",
              "      <td>GRADUATE</td>\n",
              "      <td>F</td>\n",
              "      <td>ConsumerLoan</td>\n",
              "      <td>ConsumerLoan</td>\n",
              "    </tr>\n",
              "    <tr>\n",
              "      <th>2</th>\n",
              "      <td>0.125</td>\n",
              "      <td>0.0</td>\n",
              "      <td>0</td>\n",
              "      <td>0.000</td>\n",
              "      <td>1</td>\n",
              "      <td>0</td>\n",
              "      <td>0</td>\n",
              "      <td>0</td>\n",
              "      <td>2</td>\n",
              "      <td>6</td>\n",
              "      <td>...</td>\n",
              "      <td>0</td>\n",
              "      <td>0.000</td>\n",
              "      <td>0.0</td>\n",
              "      <td>1</td>\n",
              "      <td>0</td>\n",
              "      <td>Married</td>\n",
              "      <td>SSC</td>\n",
              "      <td>M</td>\n",
              "      <td>ConsumerLoan</td>\n",
              "      <td>others</td>\n",
              "    </tr>\n",
              "    <tr>\n",
              "      <th>3</th>\n",
              "      <td>0.000</td>\n",
              "      <td>0.0</td>\n",
              "      <td>0</td>\n",
              "      <td>0.000</td>\n",
              "      <td>0</td>\n",
              "      <td>0</td>\n",
              "      <td>0</td>\n",
              "      <td>0</td>\n",
              "      <td>3</td>\n",
              "      <td>0</td>\n",
              "      <td>...</td>\n",
              "      <td>0</td>\n",
              "      <td>0.000</td>\n",
              "      <td>0.0</td>\n",
              "      <td>0</td>\n",
              "      <td>0</td>\n",
              "      <td>Married</td>\n",
              "      <td>POST-GRADUATE</td>\n",
              "      <td>M</td>\n",
              "      <td>AL</td>\n",
              "      <td>AL</td>\n",
              "    </tr>\n",
              "    <tr>\n",
              "      <th>4</th>\n",
              "      <td>0.000</td>\n",
              "      <td>0.0</td>\n",
              "      <td>1</td>\n",
              "      <td>0.167</td>\n",
              "      <td>0</td>\n",
              "      <td>0</td>\n",
              "      <td>0</td>\n",
              "      <td>0</td>\n",
              "      <td>6</td>\n",
              "      <td>0</td>\n",
              "      <td>...</td>\n",
              "      <td>0</td>\n",
              "      <td>0.429</td>\n",
              "      <td>0.0</td>\n",
              "      <td>1</td>\n",
              "      <td>0</td>\n",
              "      <td>Married</td>\n",
              "      <td>12TH</td>\n",
              "      <td>M</td>\n",
              "      <td>ConsumerLoan</td>\n",
              "      <td>PL</td>\n",
              "    </tr>\n",
              "    <tr>\n",
              "      <th>...</th>\n",
              "      <td>...</td>\n",
              "      <td>...</td>\n",
              "      <td>...</td>\n",
              "      <td>...</td>\n",
              "      <td>...</td>\n",
              "      <td>...</td>\n",
              "      <td>...</td>\n",
              "      <td>...</td>\n",
              "      <td>...</td>\n",
              "      <td>...</td>\n",
              "      <td>...</td>\n",
              "      <td>...</td>\n",
              "      <td>...</td>\n",
              "      <td>...</td>\n",
              "      <td>...</td>\n",
              "      <td>...</td>\n",
              "      <td>...</td>\n",
              "      <td>...</td>\n",
              "      <td>...</td>\n",
              "      <td>...</td>\n",
              "      <td>...</td>\n",
              "    </tr>\n",
              "    <tr>\n",
              "      <th>95</th>\n",
              "      <td>0.000</td>\n",
              "      <td>0.0</td>\n",
              "      <td>0</td>\n",
              "      <td>0.000</td>\n",
              "      <td>0</td>\n",
              "      <td>0</td>\n",
              "      <td>0</td>\n",
              "      <td>1</td>\n",
              "      <td>1</td>\n",
              "      <td>5</td>\n",
              "      <td>...</td>\n",
              "      <td>1</td>\n",
              "      <td>0.000</td>\n",
              "      <td>0.0</td>\n",
              "      <td>0</td>\n",
              "      <td>0</td>\n",
              "      <td>Married</td>\n",
              "      <td>GRADUATE</td>\n",
              "      <td>M</td>\n",
              "      <td>ConsumerLoan</td>\n",
              "      <td>others</td>\n",
              "    </tr>\n",
              "    <tr>\n",
              "      <th>96</th>\n",
              "      <td>0.222</td>\n",
              "      <td>0.0</td>\n",
              "      <td>2</td>\n",
              "      <td>0.222</td>\n",
              "      <td>0</td>\n",
              "      <td>0</td>\n",
              "      <td>0</td>\n",
              "      <td>0</td>\n",
              "      <td>1</td>\n",
              "      <td>8</td>\n",
              "      <td>...</td>\n",
              "      <td>0</td>\n",
              "      <td>0.000</td>\n",
              "      <td>0.0</td>\n",
              "      <td>0</td>\n",
              "      <td>0</td>\n",
              "      <td>Married</td>\n",
              "      <td>12TH</td>\n",
              "      <td>M</td>\n",
              "      <td>ConsumerLoan</td>\n",
              "      <td>others</td>\n",
              "    </tr>\n",
              "    <tr>\n",
              "      <th>97</th>\n",
              "      <td>0.000</td>\n",
              "      <td>0.0</td>\n",
              "      <td>0</td>\n",
              "      <td>0.000</td>\n",
              "      <td>0</td>\n",
              "      <td>0</td>\n",
              "      <td>0</td>\n",
              "      <td>0</td>\n",
              "      <td>1</td>\n",
              "      <td>0</td>\n",
              "      <td>...</td>\n",
              "      <td>0</td>\n",
              "      <td>0.000</td>\n",
              "      <td>0.0</td>\n",
              "      <td>0</td>\n",
              "      <td>0</td>\n",
              "      <td>Married</td>\n",
              "      <td>SSC</td>\n",
              "      <td>M</td>\n",
              "      <td>others</td>\n",
              "      <td>others</td>\n",
              "    </tr>\n",
              "    <tr>\n",
              "      <th>98</th>\n",
              "      <td>0.000</td>\n",
              "      <td>1.0</td>\n",
              "      <td>1</td>\n",
              "      <td>1.000</td>\n",
              "      <td>0</td>\n",
              "      <td>0</td>\n",
              "      <td>0</td>\n",
              "      <td>0</td>\n",
              "      <td>1</td>\n",
              "      <td>0</td>\n",
              "      <td>...</td>\n",
              "      <td>0</td>\n",
              "      <td>0.000</td>\n",
              "      <td>0.0</td>\n",
              "      <td>0</td>\n",
              "      <td>0</td>\n",
              "      <td>Married</td>\n",
              "      <td>12TH</td>\n",
              "      <td>M</td>\n",
              "      <td>others</td>\n",
              "      <td>others</td>\n",
              "    </tr>\n",
              "    <tr>\n",
              "      <th>99</th>\n",
              "      <td>0.500</td>\n",
              "      <td>0.0</td>\n",
              "      <td>0</td>\n",
              "      <td>0.000</td>\n",
              "      <td>0</td>\n",
              "      <td>0</td>\n",
              "      <td>0</td>\n",
              "      <td>0</td>\n",
              "      <td>1</td>\n",
              "      <td>1</td>\n",
              "      <td>...</td>\n",
              "      <td>0</td>\n",
              "      <td>1.000</td>\n",
              "      <td>0.0</td>\n",
              "      <td>0</td>\n",
              "      <td>0</td>\n",
              "      <td>Married</td>\n",
              "      <td>OTHERS</td>\n",
              "      <td>M</td>\n",
              "      <td>others</td>\n",
              "      <td>others</td>\n",
              "    </tr>\n",
              "  </tbody>\n",
              "</table>\n",
              "<p>100 rows × 42 columns</p>\n",
              "</div>"
            ],
            "text/plain": [
              "    pct_tl_open_L6M  pct_tl_closed_L6M  Tot_TL_closed_L12M  \\\n",
              "0             0.000                0.0                   0   \n",
              "1             0.000                0.0                   0   \n",
              "2             0.125                0.0                   0   \n",
              "3             0.000                0.0                   0   \n",
              "4             0.000                0.0                   1   \n",
              "..              ...                ...                 ...   \n",
              "95            0.000                0.0                   0   \n",
              "96            0.222                0.0                   2   \n",
              "97            0.000                0.0                   0   \n",
              "98            0.000                1.0                   1   \n",
              "99            0.500                0.0                   0   \n",
              "\n",
              "    pct_tl_closed_L12M  Tot_Missed_Pmnt  CC_TL  Home_TL  PL_TL  Secured_TL  \\\n",
              "0                0.000                0      0        0      4           1   \n",
              "1                0.000                0      0        0      0           0   \n",
              "2                0.000                1      0        0      0           2   \n",
              "3                0.000                0      0        0      0           3   \n",
              "4                0.167                0      0        0      0           6   \n",
              "..                 ...              ...    ...      ...    ...         ...   \n",
              "95               0.000                0      0        0      1           1   \n",
              "96               0.222                0      0        0      0           1   \n",
              "97               0.000                0      0        0      0           1   \n",
              "98               1.000                0      0        0      0           1   \n",
              "99               0.000                0      0        0      0           1   \n",
              "\n",
              "    Unsecured_TL  ...  PL_Flag  pct_PL_enq_L6m_of_ever  \\\n",
              "0              4  ...        1                   0.000   \n",
              "1              1  ...        0                   0.000   \n",
              "2              6  ...        0                   0.000   \n",
              "3              0  ...        0                   0.000   \n",
              "4              0  ...        0                   0.429   \n",
              "..           ...  ...      ...                     ...   \n",
              "95             5  ...        1                   0.000   \n",
              "96             8  ...        0                   0.000   \n",
              "97             0  ...        0                   0.000   \n",
              "98             0  ...        0                   0.000   \n",
              "99             1  ...        0                   1.000   \n",
              "\n",
              "    pct_CC_enq_L6m_of_ever  HL_Flag  GL_Flag  MARITALSTATUS      EDUCATION  \\\n",
              "0                      0.0        1        0        Married           12TH   \n",
              "1                      0.0        0        0         Single       GRADUATE   \n",
              "2                      0.0        1        0        Married            SSC   \n",
              "3                      0.0        0        0        Married  POST-GRADUATE   \n",
              "4                      0.0        1        0        Married           12TH   \n",
              "..                     ...      ...      ...            ...            ...   \n",
              "95                     0.0        0        0        Married       GRADUATE   \n",
              "96                     0.0        0        0        Married           12TH   \n",
              "97                     0.0        0        0        Married            SSC   \n",
              "98                     0.0        0        0        Married           12TH   \n",
              "99                     0.0        0        0        Married         OTHERS   \n",
              "\n",
              "    GENDER  last_prod_enq2  first_prod_enq2  \n",
              "0        M              PL               PL  \n",
              "1        F    ConsumerLoan     ConsumerLoan  \n",
              "2        M    ConsumerLoan           others  \n",
              "3        M              AL               AL  \n",
              "4        M    ConsumerLoan               PL  \n",
              "..     ...             ...              ...  \n",
              "95       M    ConsumerLoan           others  \n",
              "96       M    ConsumerLoan           others  \n",
              "97       M          others           others  \n",
              "98       M          others           others  \n",
              "99       M          others           others  \n",
              "\n",
              "[100 rows x 42 columns]"
            ]
          },
          "execution_count": 125,
          "metadata": {},
          "output_type": "execute_result"
        }
      ],
      "source": [
        "df_unseen"
      ]
    },
    {
      "cell_type": "code",
      "execution_count": 126,
      "metadata": {
        "colab": {
          "base_uri": "https://localhost:8080/"
        },
        "id": "OQQKUbLSBXeD",
        "outputId": "3558046f-2068-4897-d395-cdaea2b93677"
      },
      "outputs": [
        {
          "data": {
            "text/plain": [
              "array(['Married', 'Single'], dtype=object)"
            ]
          },
          "execution_count": 126,
          "metadata": {},
          "output_type": "execute_result"
        }
      ],
      "source": [
        "df_unseen['MARITALSTATUS'].unique()"
      ]
    },
    {
      "cell_type": "code",
      "execution_count": 127,
      "metadata": {
        "colab": {
          "base_uri": "https://localhost:8080/"
        },
        "id": "ufhJLNohBXao",
        "outputId": "64659a41-c56e-41f9-b344-208a30453992"
      },
      "outputs": [
        {
          "data": {
            "text/plain": [
              "array(['12TH', 'GRADUATE', 'SSC', 'POST-GRADUATE', 'UNDER GRADUATE',\n",
              "       'OTHERS'], dtype=object)"
            ]
          },
          "execution_count": 127,
          "metadata": {},
          "output_type": "execute_result"
        }
      ],
      "source": [
        "df_unseen['EDUCATION'].unique()"
      ]
    },
    {
      "cell_type": "code",
      "execution_count": 128,
      "metadata": {
        "colab": {
          "base_uri": "https://localhost:8080/"
        },
        "id": "LfC-3U0WBXY4",
        "outputId": "6c8a9db6-18df-41f1-afce-0f341a4709dd"
      },
      "outputs": [
        {
          "data": {
            "text/plain": [
              "array(['M', 'F'], dtype=object)"
            ]
          },
          "execution_count": 128,
          "metadata": {},
          "output_type": "execute_result"
        }
      ],
      "source": [
        "df_unseen['GENDER'].unique()"
      ]
    },
    {
      "cell_type": "code",
      "execution_count": 129,
      "metadata": {
        "colab": {
          "base_uri": "https://localhost:8080/"
        },
        "id": "F9oevA28BXW3",
        "outputId": "5ca71b3b-884c-424c-c5b2-24e63d57ed64"
      },
      "outputs": [
        {
          "data": {
            "text/plain": [
              "array(['PL', 'ConsumerLoan', 'AL', 'CC', 'others', 'HL'], dtype=object)"
            ]
          },
          "execution_count": 129,
          "metadata": {},
          "output_type": "execute_result"
        }
      ],
      "source": [
        "df_unseen['last_prod_enq2'].unique()"
      ]
    },
    {
      "cell_type": "code",
      "execution_count": 130,
      "metadata": {
        "colab": {
          "base_uri": "https://localhost:8080/"
        },
        "id": "UshpxM-HBXVB",
        "outputId": "9aa7935b-c692-48fa-c418-ef198815521c"
      },
      "outputs": [
        {
          "data": {
            "text/plain": [
              "array(['PL', 'ConsumerLoan', 'others', 'AL', 'HL', 'CC'], dtype=object)"
            ]
          },
          "execution_count": 130,
          "metadata": {},
          "output_type": "execute_result"
        }
      ],
      "source": [
        "df_unseen['first_prod_enq2'].unique()"
      ]
    },
    {
      "cell_type": "code",
      "execution_count": 131,
      "metadata": {
        "id": "NUbREIVOBXS-"
      },
      "outputs": [],
      "source": [
        "# Ordinal Feature -- Education\n",
        "# SSC : 1\n",
        "# 12TH : 2\n",
        "# Graduate : 3\n",
        "# Under Graduate : 3\n",
        "# Post Graduate : 4\n",
        "# others : 1\n",
        "# Professional : 3\n",
        "\n",
        "# Others has to be verified by the business end user\n",
        "\n",
        "df_unseen.loc[df_unseen['EDUCATION'] == 'SSC',['EDUCATION']]              = 1\n",
        "df_unseen.loc[df_unseen['EDUCATION'] == '12TH',['EDUCATION']]             = 2\n",
        "df_unseen.loc[df_unseen['EDUCATION'] == 'GRADUATE',['EDUCATION']]         = 3\n",
        "df_unseen.loc[df_unseen['EDUCATION'] == 'UNDER GRADUATE',['EDUCATION']]   = 3\n",
        "df_unseen.loc[df_unseen['EDUCATION'] == 'POST-GRADUATE',['EDUCATION']]    = 4\n",
        "df_unseen.loc[df_unseen['EDUCATION'] == 'OTHERS',['EDUCATION']]           = 1\n",
        "df_unseen.loc[df_unseen['EDUCATION'] == 'PROFESSIONAL',['EDUCATION']]     = 3\n",
        "\n"
      ]
    },
    {
      "cell_type": "code",
      "execution_count": 132,
      "metadata": {
        "colab": {
          "base_uri": "https://localhost:8080/"
        },
        "id": "cqQOYvTzC40M",
        "outputId": "f6b83ae6-3dd0-4d91-dd28-3f8eedb7a068"
      },
      "outputs": [
        {
          "data": {
            "text/plain": [
              "EDUCATION\n",
              "3    41\n",
              "2    28\n",
              "1    26\n",
              "4     5\n",
              "Name: count, dtype: int64"
            ]
          },
          "execution_count": 132,
          "metadata": {},
          "output_type": "execute_result"
        }
      ],
      "source": [
        "df_unseen['EDUCATION'].value_counts()"
      ]
    },
    {
      "cell_type": "code",
      "execution_count": 133,
      "metadata": {
        "colab": {
          "base_uri": "https://localhost:8080/"
        },
        "id": "8f9P25ftC4ge",
        "outputId": "92082000-59cf-4f81-ca41-8ad3c43b3290"
      },
      "outputs": [
        {
          "name": "stdout",
          "output_type": "stream",
          "text": [
            "<class 'pandas.core.frame.DataFrame'>\n",
            "RangeIndex: 100 entries, 0 to 99\n",
            "Data columns (total 42 columns):\n",
            " #   Column                     Non-Null Count  Dtype  \n",
            "---  ------                     --------------  -----  \n",
            " 0   pct_tl_open_L6M            100 non-null    float64\n",
            " 1   pct_tl_closed_L6M          100 non-null    float64\n",
            " 2   Tot_TL_closed_L12M         100 non-null    int64  \n",
            " 3   pct_tl_closed_L12M         100 non-null    float64\n",
            " 4   Tot_Missed_Pmnt            100 non-null    int64  \n",
            " 5   CC_TL                      100 non-null    int64  \n",
            " 6   Home_TL                    100 non-null    int64  \n",
            " 7   PL_TL                      100 non-null    int64  \n",
            " 8   Secured_TL                 100 non-null    int64  \n",
            " 9   Unsecured_TL               100 non-null    int64  \n",
            " 10  Other_TL                   100 non-null    int64  \n",
            " 11  Age_Oldest_TL              100 non-null    int64  \n",
            " 12  Age_Newest_TL              100 non-null    int64  \n",
            " 13  time_since_recent_payment  100 non-null    int64  \n",
            " 14  max_recent_level_of_deliq  100 non-null    int64  \n",
            " 15  num_deliq_6_12mts          100 non-null    int64  \n",
            " 16  num_times_60p_dpd          100 non-null    int64  \n",
            " 17  num_std_12mts              100 non-null    int64  \n",
            " 18  num_sub                    100 non-null    int64  \n",
            " 19  num_sub_6mts               100 non-null    int64  \n",
            " 20  num_sub_12mts              100 non-null    int64  \n",
            " 21  num_dbt                    100 non-null    int64  \n",
            " 22  num_dbt_12mts              100 non-null    int64  \n",
            " 23  num_lss                    100 non-null    int64  \n",
            " 24  recent_level_of_deliq      100 non-null    int64  \n",
            " 25  CC_enq_L12m                100 non-null    int64  \n",
            " 26  PL_enq_L12m                100 non-null    int64  \n",
            " 27  time_since_recent_enq      100 non-null    int64  \n",
            " 28  enq_L3m                    100 non-null    int64  \n",
            " 29  NETMONTHLYINCOME           100 non-null    int64  \n",
            " 30  Time_With_Curr_Empr        100 non-null    int64  \n",
            " 31  CC_Flag                    100 non-null    int64  \n",
            " 32  PL_Flag                    100 non-null    int64  \n",
            " 33  pct_PL_enq_L6m_of_ever     100 non-null    float64\n",
            " 34  pct_CC_enq_L6m_of_ever     100 non-null    float64\n",
            " 35  HL_Flag                    100 non-null    int64  \n",
            " 36  GL_Flag                    100 non-null    int64  \n",
            " 37  MARITALSTATUS              100 non-null    object \n",
            " 38  EDUCATION                  100 non-null    int32  \n",
            " 39  GENDER                     100 non-null    object \n",
            " 40  last_prod_enq2             100 non-null    object \n",
            " 41  first_prod_enq2            100 non-null    object \n",
            "dtypes: float64(5), int32(1), int64(32), object(4)\n",
            "memory usage: 32.6+ KB\n"
          ]
        }
      ],
      "source": [
        "df_unseen['EDUCATION'] = df_unseen['EDUCATION'].astype(int)\n",
        "df_unseen.info()"
      ]
    },
    {
      "cell_type": "code",
      "execution_count": 134,
      "metadata": {
        "id": "9KRCgi4iC4Y_"
      },
      "outputs": [],
      "source": [
        "df_encoded_unseen = pd.get_dummies(df_unseen, columns=['MARITALSTATUS','GENDER', 'last_prod_enq2' ,'first_prod_enq2'])"
      ]
    },
    {
      "cell_type": "code",
      "execution_count": 135,
      "metadata": {
        "colab": {
          "base_uri": "https://localhost:8080/"
        },
        "id": "STJeo4FGC4OI",
        "outputId": "9fb5b325-b736-423d-e083-57f51af4609e"
      },
      "outputs": [
        {
          "name": "stdout",
          "output_type": "stream",
          "text": [
            "<class 'pandas.core.frame.DataFrame'>\n",
            "RangeIndex: 100 entries, 0 to 99\n",
            "Data columns (total 54 columns):\n",
            " #   Column                        Non-Null Count  Dtype  \n",
            "---  ------                        --------------  -----  \n",
            " 0   pct_tl_open_L6M               100 non-null    float64\n",
            " 1   pct_tl_closed_L6M             100 non-null    float64\n",
            " 2   Tot_TL_closed_L12M            100 non-null    int64  \n",
            " 3   pct_tl_closed_L12M            100 non-null    float64\n",
            " 4   Tot_Missed_Pmnt               100 non-null    int64  \n",
            " 5   CC_TL                         100 non-null    int64  \n",
            " 6   Home_TL                       100 non-null    int64  \n",
            " 7   PL_TL                         100 non-null    int64  \n",
            " 8   Secured_TL                    100 non-null    int64  \n",
            " 9   Unsecured_TL                  100 non-null    int64  \n",
            " 10  Other_TL                      100 non-null    int64  \n",
            " 11  Age_Oldest_TL                 100 non-null    int64  \n",
            " 12  Age_Newest_TL                 100 non-null    int64  \n",
            " 13  time_since_recent_payment     100 non-null    int64  \n",
            " 14  max_recent_level_of_deliq     100 non-null    int64  \n",
            " 15  num_deliq_6_12mts             100 non-null    int64  \n",
            " 16  num_times_60p_dpd             100 non-null    int64  \n",
            " 17  num_std_12mts                 100 non-null    int64  \n",
            " 18  num_sub                       100 non-null    int64  \n",
            " 19  num_sub_6mts                  100 non-null    int64  \n",
            " 20  num_sub_12mts                 100 non-null    int64  \n",
            " 21  num_dbt                       100 non-null    int64  \n",
            " 22  num_dbt_12mts                 100 non-null    int64  \n",
            " 23  num_lss                       100 non-null    int64  \n",
            " 24  recent_level_of_deliq         100 non-null    int64  \n",
            " 25  CC_enq_L12m                   100 non-null    int64  \n",
            " 26  PL_enq_L12m                   100 non-null    int64  \n",
            " 27  time_since_recent_enq         100 non-null    int64  \n",
            " 28  enq_L3m                       100 non-null    int64  \n",
            " 29  NETMONTHLYINCOME              100 non-null    int64  \n",
            " 30  Time_With_Curr_Empr           100 non-null    int64  \n",
            " 31  CC_Flag                       100 non-null    int64  \n",
            " 32  PL_Flag                       100 non-null    int64  \n",
            " 33  pct_PL_enq_L6m_of_ever        100 non-null    float64\n",
            " 34  pct_CC_enq_L6m_of_ever        100 non-null    float64\n",
            " 35  HL_Flag                       100 non-null    int64  \n",
            " 36  GL_Flag                       100 non-null    int64  \n",
            " 37  EDUCATION                     100 non-null    int32  \n",
            " 38  MARITALSTATUS_Married         100 non-null    bool   \n",
            " 39  MARITALSTATUS_Single          100 non-null    bool   \n",
            " 40  GENDER_F                      100 non-null    bool   \n",
            " 41  GENDER_M                      100 non-null    bool   \n",
            " 42  last_prod_enq2_AL             100 non-null    bool   \n",
            " 43  last_prod_enq2_CC             100 non-null    bool   \n",
            " 44  last_prod_enq2_ConsumerLoan   100 non-null    bool   \n",
            " 45  last_prod_enq2_HL             100 non-null    bool   \n",
            " 46  last_prod_enq2_PL             100 non-null    bool   \n",
            " 47  last_prod_enq2_others         100 non-null    bool   \n",
            " 48  first_prod_enq2_AL            100 non-null    bool   \n",
            " 49  first_prod_enq2_CC            100 non-null    bool   \n",
            " 50  first_prod_enq2_ConsumerLoan  100 non-null    bool   \n",
            " 51  first_prod_enq2_HL            100 non-null    bool   \n",
            " 52  first_prod_enq2_PL            100 non-null    bool   \n",
            " 53  first_prod_enq2_others        100 non-null    bool   \n",
            "dtypes: bool(16), float64(5), int32(1), int64(32)\n",
            "memory usage: 31.0 KB\n"
          ]
        }
      ],
      "source": [
        "df_encoded_unseen.info()"
      ]
    },
    {
      "cell_type": "code",
      "execution_count": 136,
      "metadata": {
        "id": "qXzxkCTnC33d"
      },
      "outputs": [],
      "source": [
        "k = df_encoded_unseen.describe()"
      ]
    },
    {
      "cell_type": "code",
      "execution_count": 137,
      "metadata": {
        "id": "0rXbifY6D2As"
      },
      "outputs": [],
      "source": [
        "model = xgb.XGBClassifier(objective = 'multi:softmax',\n",
        "                          num_class=4,\n",
        "                         colsample_bytree = 0.9,\n",
        "                         learning_rate=1,\n",
        "                          max_depth = 3,\n",
        "                          alpha = 10,\n",
        "                          n_estimators=100)"
      ]
    },
    {
      "cell_type": "code",
      "execution_count": 138,
      "metadata": {
        "colab": {
          "base_uri": "https://localhost:8080/",
          "height": 51
        },
        "id": "qRIVOYHQD19N",
        "outputId": "a96f6ce5-a559-492c-ca10-84048ce27afb"
      },
      "outputs": [
        {
          "data": {
            "text/html": [
              "<style>#sk-container-id-2 {\n",
              "  /* Definition of color scheme common for light and dark mode */\n",
              "  --sklearn-color-text: black;\n",
              "  --sklearn-color-line: gray;\n",
              "  /* Definition of color scheme for unfitted estimators */\n",
              "  --sklearn-color-unfitted-level-0: #fff5e6;\n",
              "  --sklearn-color-unfitted-level-1: #f6e4d2;\n",
              "  --sklearn-color-unfitted-level-2: #ffe0b3;\n",
              "  --sklearn-color-unfitted-level-3: chocolate;\n",
              "  /* Definition of color scheme for fitted estimators */\n",
              "  --sklearn-color-fitted-level-0: #f0f8ff;\n",
              "  --sklearn-color-fitted-level-1: #d4ebff;\n",
              "  --sklearn-color-fitted-level-2: #b3dbfd;\n",
              "  --sklearn-color-fitted-level-3: cornflowerblue;\n",
              "\n",
              "  /* Specific color for light theme */\n",
              "  --sklearn-color-text-on-default-background: var(--sg-text-color, var(--theme-code-foreground, var(--jp-content-font-color1, black)));\n",
              "  --sklearn-color-background: var(--sg-background-color, var(--theme-background, var(--jp-layout-color0, white)));\n",
              "  --sklearn-color-border-box: var(--sg-text-color, var(--theme-code-foreground, var(--jp-content-font-color1, black)));\n",
              "  --sklearn-color-icon: #696969;\n",
              "\n",
              "  @media (prefers-color-scheme: dark) {\n",
              "    /* Redefinition of color scheme for dark theme */\n",
              "    --sklearn-color-text-on-default-background: var(--sg-text-color, var(--theme-code-foreground, var(--jp-content-font-color1, white)));\n",
              "    --sklearn-color-background: var(--sg-background-color, var(--theme-background, var(--jp-layout-color0, #111)));\n",
              "    --sklearn-color-border-box: var(--sg-text-color, var(--theme-code-foreground, var(--jp-content-font-color1, white)));\n",
              "    --sklearn-color-icon: #878787;\n",
              "  }\n",
              "}\n",
              "\n",
              "#sk-container-id-2 {\n",
              "  color: var(--sklearn-color-text);\n",
              "}\n",
              "\n",
              "#sk-container-id-2 pre {\n",
              "  padding: 0;\n",
              "}\n",
              "\n",
              "#sk-container-id-2 input.sk-hidden--visually {\n",
              "  border: 0;\n",
              "  clip: rect(1px 1px 1px 1px);\n",
              "  clip: rect(1px, 1px, 1px, 1px);\n",
              "  height: 1px;\n",
              "  margin: -1px;\n",
              "  overflow: hidden;\n",
              "  padding: 0;\n",
              "  position: absolute;\n",
              "  width: 1px;\n",
              "}\n",
              "\n",
              "#sk-container-id-2 div.sk-dashed-wrapped {\n",
              "  border: 1px dashed var(--sklearn-color-line);\n",
              "  margin: 0 0.4em 0.5em 0.4em;\n",
              "  box-sizing: border-box;\n",
              "  padding-bottom: 0.4em;\n",
              "  background-color: var(--sklearn-color-background);\n",
              "}\n",
              "\n",
              "#sk-container-id-2 div.sk-container {\n",
              "  /* jupyter's `normalize.less` sets `[hidden] { display: none; }`\n",
              "     but bootstrap.min.css set `[hidden] { display: none !important; }`\n",
              "     so we also need the `!important` here to be able to override the\n",
              "     default hidden behavior on the sphinx rendered scikit-learn.org.\n",
              "     See: https://github.com/scikit-learn/scikit-learn/issues/21755 */\n",
              "  display: inline-block !important;\n",
              "  position: relative;\n",
              "}\n",
              "\n",
              "#sk-container-id-2 div.sk-text-repr-fallback {\n",
              "  display: none;\n",
              "}\n",
              "\n",
              "div.sk-parallel-item,\n",
              "div.sk-serial,\n",
              "div.sk-item {\n",
              "  /* draw centered vertical line to link estimators */\n",
              "  background-image: linear-gradient(var(--sklearn-color-text-on-default-background), var(--sklearn-color-text-on-default-background));\n",
              "  background-size: 2px 100%;\n",
              "  background-repeat: no-repeat;\n",
              "  background-position: center center;\n",
              "}\n",
              "\n",
              "/* Parallel-specific style estimator block */\n",
              "\n",
              "#sk-container-id-2 div.sk-parallel-item::after {\n",
              "  content: \"\";\n",
              "  width: 100%;\n",
              "  border-bottom: 2px solid var(--sklearn-color-text-on-default-background);\n",
              "  flex-grow: 1;\n",
              "}\n",
              "\n",
              "#sk-container-id-2 div.sk-parallel {\n",
              "  display: flex;\n",
              "  align-items: stretch;\n",
              "  justify-content: center;\n",
              "  background-color: var(--sklearn-color-background);\n",
              "  position: relative;\n",
              "}\n",
              "\n",
              "#sk-container-id-2 div.sk-parallel-item {\n",
              "  display: flex;\n",
              "  flex-direction: column;\n",
              "}\n",
              "\n",
              "#sk-container-id-2 div.sk-parallel-item:first-child::after {\n",
              "  align-self: flex-end;\n",
              "  width: 50%;\n",
              "}\n",
              "\n",
              "#sk-container-id-2 div.sk-parallel-item:last-child::after {\n",
              "  align-self: flex-start;\n",
              "  width: 50%;\n",
              "}\n",
              "\n",
              "#sk-container-id-2 div.sk-parallel-item:only-child::after {\n",
              "  width: 0;\n",
              "}\n",
              "\n",
              "/* Serial-specific style estimator block */\n",
              "\n",
              "#sk-container-id-2 div.sk-serial {\n",
              "  display: flex;\n",
              "  flex-direction: column;\n",
              "  align-items: center;\n",
              "  background-color: var(--sklearn-color-background);\n",
              "  padding-right: 1em;\n",
              "  padding-left: 1em;\n",
              "}\n",
              "\n",
              "\n",
              "/* Toggleable style: style used for estimator/Pipeline/ColumnTransformer box that is\n",
              "clickable and can be expanded/collapsed.\n",
              "- Pipeline and ColumnTransformer use this feature and define the default style\n",
              "- Estimators will overwrite some part of the style using the `sk-estimator` class\n",
              "*/\n",
              "\n",
              "/* Pipeline and ColumnTransformer style (default) */\n",
              "\n",
              "#sk-container-id-2 div.sk-toggleable {\n",
              "  /* Default theme specific background. It is overwritten whether we have a\n",
              "  specific estimator or a Pipeline/ColumnTransformer */\n",
              "  background-color: var(--sklearn-color-background);\n",
              "}\n",
              "\n",
              "/* Toggleable label */\n",
              "#sk-container-id-2 label.sk-toggleable__label {\n",
              "  cursor: pointer;\n",
              "  display: block;\n",
              "  width: 100%;\n",
              "  margin-bottom: 0;\n",
              "  padding: 0.5em;\n",
              "  box-sizing: border-box;\n",
              "  text-align: center;\n",
              "}\n",
              "\n",
              "#sk-container-id-2 label.sk-toggleable__label-arrow:before {\n",
              "  /* Arrow on the left of the label */\n",
              "  content: \"▸\";\n",
              "  float: left;\n",
              "  margin-right: 0.25em;\n",
              "  color: var(--sklearn-color-icon);\n",
              "}\n",
              "\n",
              "#sk-container-id-2 label.sk-toggleable__label-arrow:hover:before {\n",
              "  color: var(--sklearn-color-text);\n",
              "}\n",
              "\n",
              "/* Toggleable content - dropdown */\n",
              "\n",
              "#sk-container-id-2 div.sk-toggleable__content {\n",
              "  max-height: 0;\n",
              "  max-width: 0;\n",
              "  overflow: hidden;\n",
              "  text-align: left;\n",
              "  /* unfitted */\n",
              "  background-color: var(--sklearn-color-unfitted-level-0);\n",
              "}\n",
              "\n",
              "#sk-container-id-2 div.sk-toggleable__content.fitted {\n",
              "  /* fitted */\n",
              "  background-color: var(--sklearn-color-fitted-level-0);\n",
              "}\n",
              "\n",
              "#sk-container-id-2 div.sk-toggleable__content pre {\n",
              "  margin: 0.2em;\n",
              "  border-radius: 0.25em;\n",
              "  color: var(--sklearn-color-text);\n",
              "  /* unfitted */\n",
              "  background-color: var(--sklearn-color-unfitted-level-0);\n",
              "}\n",
              "\n",
              "#sk-container-id-2 div.sk-toggleable__content.fitted pre {\n",
              "  /* unfitted */\n",
              "  background-color: var(--sklearn-color-fitted-level-0);\n",
              "}\n",
              "\n",
              "#sk-container-id-2 input.sk-toggleable__control:checked~div.sk-toggleable__content {\n",
              "  /* Expand drop-down */\n",
              "  max-height: 200px;\n",
              "  max-width: 100%;\n",
              "  overflow: auto;\n",
              "}\n",
              "\n",
              "#sk-container-id-2 input.sk-toggleable__control:checked~label.sk-toggleable__label-arrow:before {\n",
              "  content: \"▾\";\n",
              "}\n",
              "\n",
              "/* Pipeline/ColumnTransformer-specific style */\n",
              "\n",
              "#sk-container-id-2 div.sk-label input.sk-toggleable__control:checked~label.sk-toggleable__label {\n",
              "  color: var(--sklearn-color-text);\n",
              "  background-color: var(--sklearn-color-unfitted-level-2);\n",
              "}\n",
              "\n",
              "#sk-container-id-2 div.sk-label.fitted input.sk-toggleable__control:checked~label.sk-toggleable__label {\n",
              "  background-color: var(--sklearn-color-fitted-level-2);\n",
              "}\n",
              "\n",
              "/* Estimator-specific style */\n",
              "\n",
              "/* Colorize estimator box */\n",
              "#sk-container-id-2 div.sk-estimator input.sk-toggleable__control:checked~label.sk-toggleable__label {\n",
              "  /* unfitted */\n",
              "  background-color: var(--sklearn-color-unfitted-level-2);\n",
              "}\n",
              "\n",
              "#sk-container-id-2 div.sk-estimator.fitted input.sk-toggleable__control:checked~label.sk-toggleable__label {\n",
              "  /* fitted */\n",
              "  background-color: var(--sklearn-color-fitted-level-2);\n",
              "}\n",
              "\n",
              "#sk-container-id-2 div.sk-label label.sk-toggleable__label,\n",
              "#sk-container-id-2 div.sk-label label {\n",
              "  /* The background is the default theme color */\n",
              "  color: var(--sklearn-color-text-on-default-background);\n",
              "}\n",
              "\n",
              "/* On hover, darken the color of the background */\n",
              "#sk-container-id-2 div.sk-label:hover label.sk-toggleable__label {\n",
              "  color: var(--sklearn-color-text);\n",
              "  background-color: var(--sklearn-color-unfitted-level-2);\n",
              "}\n",
              "\n",
              "/* Label box, darken color on hover, fitted */\n",
              "#sk-container-id-2 div.sk-label.fitted:hover label.sk-toggleable__label.fitted {\n",
              "  color: var(--sklearn-color-text);\n",
              "  background-color: var(--sklearn-color-fitted-level-2);\n",
              "}\n",
              "\n",
              "/* Estimator label */\n",
              "\n",
              "#sk-container-id-2 div.sk-label label {\n",
              "  font-family: monospace;\n",
              "  font-weight: bold;\n",
              "  display: inline-block;\n",
              "  line-height: 1.2em;\n",
              "}\n",
              "\n",
              "#sk-container-id-2 div.sk-label-container {\n",
              "  text-align: center;\n",
              "}\n",
              "\n",
              "/* Estimator-specific */\n",
              "#sk-container-id-2 div.sk-estimator {\n",
              "  font-family: monospace;\n",
              "  border: 1px dotted var(--sklearn-color-border-box);\n",
              "  border-radius: 0.25em;\n",
              "  box-sizing: border-box;\n",
              "  margin-bottom: 0.5em;\n",
              "  /* unfitted */\n",
              "  background-color: var(--sklearn-color-unfitted-level-0);\n",
              "}\n",
              "\n",
              "#sk-container-id-2 div.sk-estimator.fitted {\n",
              "  /* fitted */\n",
              "  background-color: var(--sklearn-color-fitted-level-0);\n",
              "}\n",
              "\n",
              "/* on hover */\n",
              "#sk-container-id-2 div.sk-estimator:hover {\n",
              "  /* unfitted */\n",
              "  background-color: var(--sklearn-color-unfitted-level-2);\n",
              "}\n",
              "\n",
              "#sk-container-id-2 div.sk-estimator.fitted:hover {\n",
              "  /* fitted */\n",
              "  background-color: var(--sklearn-color-fitted-level-2);\n",
              "}\n",
              "\n",
              "/* Specification for estimator info (e.g. \"i\" and \"?\") */\n",
              "\n",
              "/* Common style for \"i\" and \"?\" */\n",
              "\n",
              ".sk-estimator-doc-link,\n",
              "a:link.sk-estimator-doc-link,\n",
              "a:visited.sk-estimator-doc-link {\n",
              "  float: right;\n",
              "  font-size: smaller;\n",
              "  line-height: 1em;\n",
              "  font-family: monospace;\n",
              "  background-color: var(--sklearn-color-background);\n",
              "  border-radius: 1em;\n",
              "  height: 1em;\n",
              "  width: 1em;\n",
              "  text-decoration: none !important;\n",
              "  margin-left: 1ex;\n",
              "  /* unfitted */\n",
              "  border: var(--sklearn-color-unfitted-level-1) 1pt solid;\n",
              "  color: var(--sklearn-color-unfitted-level-1);\n",
              "}\n",
              "\n",
              ".sk-estimator-doc-link.fitted,\n",
              "a:link.sk-estimator-doc-link.fitted,\n",
              "a:visited.sk-estimator-doc-link.fitted {\n",
              "  /* fitted */\n",
              "  border: var(--sklearn-color-fitted-level-1) 1pt solid;\n",
              "  color: var(--sklearn-color-fitted-level-1);\n",
              "}\n",
              "\n",
              "/* On hover */\n",
              "div.sk-estimator:hover .sk-estimator-doc-link:hover,\n",
              ".sk-estimator-doc-link:hover,\n",
              "div.sk-label-container:hover .sk-estimator-doc-link:hover,\n",
              ".sk-estimator-doc-link:hover {\n",
              "  /* unfitted */\n",
              "  background-color: var(--sklearn-color-unfitted-level-3);\n",
              "  color: var(--sklearn-color-background);\n",
              "  text-decoration: none;\n",
              "}\n",
              "\n",
              "div.sk-estimator.fitted:hover .sk-estimator-doc-link.fitted:hover,\n",
              ".sk-estimator-doc-link.fitted:hover,\n",
              "div.sk-label-container:hover .sk-estimator-doc-link.fitted:hover,\n",
              ".sk-estimator-doc-link.fitted:hover {\n",
              "  /* fitted */\n",
              "  background-color: var(--sklearn-color-fitted-level-3);\n",
              "  color: var(--sklearn-color-background);\n",
              "  text-decoration: none;\n",
              "}\n",
              "\n",
              "/* Span, style for the box shown on hovering the info icon */\n",
              ".sk-estimator-doc-link span {\n",
              "  display: none;\n",
              "  z-index: 9999;\n",
              "  position: relative;\n",
              "  font-weight: normal;\n",
              "  right: .2ex;\n",
              "  padding: .5ex;\n",
              "  margin: .5ex;\n",
              "  width: min-content;\n",
              "  min-width: 20ex;\n",
              "  max-width: 50ex;\n",
              "  color: var(--sklearn-color-text);\n",
              "  box-shadow: 2pt 2pt 4pt #999;\n",
              "  /* unfitted */\n",
              "  background: var(--sklearn-color-unfitted-level-0);\n",
              "  border: .5pt solid var(--sklearn-color-unfitted-level-3);\n",
              "}\n",
              "\n",
              ".sk-estimator-doc-link.fitted span {\n",
              "  /* fitted */\n",
              "  background: var(--sklearn-color-fitted-level-0);\n",
              "  border: var(--sklearn-color-fitted-level-3);\n",
              "}\n",
              "\n",
              ".sk-estimator-doc-link:hover span {\n",
              "  display: block;\n",
              "}\n",
              "\n",
              "/* \"?\"-specific style due to the `<a>` HTML tag */\n",
              "\n",
              "#sk-container-id-2 a.estimator_doc_link {\n",
              "  float: right;\n",
              "  font-size: 1rem;\n",
              "  line-height: 1em;\n",
              "  font-family: monospace;\n",
              "  background-color: var(--sklearn-color-background);\n",
              "  border-radius: 1rem;\n",
              "  height: 1rem;\n",
              "  width: 1rem;\n",
              "  text-decoration: none;\n",
              "  /* unfitted */\n",
              "  color: var(--sklearn-color-unfitted-level-1);\n",
              "  border: var(--sklearn-color-unfitted-level-1) 1pt solid;\n",
              "}\n",
              "\n",
              "#sk-container-id-2 a.estimator_doc_link.fitted {\n",
              "  /* fitted */\n",
              "  border: var(--sklearn-color-fitted-level-1) 1pt solid;\n",
              "  color: var(--sklearn-color-fitted-level-1);\n",
              "}\n",
              "\n",
              "/* On hover */\n",
              "#sk-container-id-2 a.estimator_doc_link:hover {\n",
              "  /* unfitted */\n",
              "  background-color: var(--sklearn-color-unfitted-level-3);\n",
              "  color: var(--sklearn-color-background);\n",
              "  text-decoration: none;\n",
              "}\n",
              "\n",
              "#sk-container-id-2 a.estimator_doc_link.fitted:hover {\n",
              "  /* fitted */\n",
              "  background-color: var(--sklearn-color-fitted-level-3);\n",
              "}\n",
              "</style><div id=\"sk-container-id-2\" class=\"sk-top-container\"><div class=\"sk-text-repr-fallback\"><pre>XGBClassifier(alpha=10, base_score=None, booster=None, callbacks=None,\n",
              "              colsample_bylevel=None, colsample_bynode=None,\n",
              "              colsample_bytree=0.9, device=None, early_stopping_rounds=None,\n",
              "              enable_categorical=False, eval_metric=None, feature_types=None,\n",
              "              gamma=None, grow_policy=None, importance_type=None,\n",
              "              interaction_constraints=None, learning_rate=1, max_bin=None,\n",
              "              max_cat_threshold=None, max_cat_to_onehot=None,\n",
              "              max_delta_step=None, max_depth=3, max_leaves=None,\n",
              "              min_child_weight=None, missing=nan, monotone_constraints=None,\n",
              "              multi_strategy=None, n_estimators=100, n_jobs=None, num_class=4, ...)</pre><b>In a Jupyter environment, please rerun this cell to show the HTML representation or trust the notebook. <br />On GitHub, the HTML representation is unable to render, please try loading this page with nbviewer.org.</b></div><div class=\"sk-container\" hidden><div class=\"sk-item\"><div class=\"sk-estimator fitted sk-toggleable\"><input class=\"sk-toggleable__control sk-hidden--visually\" id=\"sk-estimator-id-2\" type=\"checkbox\" checked><label for=\"sk-estimator-id-2\" class=\"sk-toggleable__label fitted sk-toggleable__label-arrow fitted\">&nbsp;XGBClassifier<span class=\"sk-estimator-doc-link fitted\">i<span>Fitted</span></span></label><div class=\"sk-toggleable__content fitted\"><pre>XGBClassifier(alpha=10, base_score=None, booster=None, callbacks=None,\n",
              "              colsample_bylevel=None, colsample_bynode=None,\n",
              "              colsample_bytree=0.9, device=None, early_stopping_rounds=None,\n",
              "              enable_categorical=False, eval_metric=None, feature_types=None,\n",
              "              gamma=None, grow_policy=None, importance_type=None,\n",
              "              interaction_constraints=None, learning_rate=1, max_bin=None,\n",
              "              max_cat_threshold=None, max_cat_to_onehot=None,\n",
              "              max_delta_step=None, max_depth=3, max_leaves=None,\n",
              "              min_child_weight=None, missing=nan, monotone_constraints=None,\n",
              "              multi_strategy=None, n_estimators=100, n_jobs=None, num_class=4, ...)</pre></div> </div></div></div></div>"
            ],
            "text/plain": [
              "XGBClassifier(alpha=10, base_score=None, booster=None, callbacks=None,\n",
              "              colsample_bylevel=None, colsample_bynode=None,\n",
              "              colsample_bytree=0.9, device=None, early_stopping_rounds=None,\n",
              "              enable_categorical=False, eval_metric=None, feature_types=None,\n",
              "              gamma=None, grow_policy=None, importance_type=None,\n",
              "              interaction_constraints=None, learning_rate=1, max_bin=None,\n",
              "              max_cat_threshold=None, max_cat_to_onehot=None,\n",
              "              max_delta_step=None, max_depth=3, max_leaves=None,\n",
              "              min_child_weight=None, missing=nan, monotone_constraints=None,\n",
              "              multi_strategy=None, n_estimators=100, n_jobs=None, num_class=4, ...)"
            ]
          },
          "execution_count": 138,
          "metadata": {},
          "output_type": "execute_result"
        }
      ],
      "source": [
        "model.fit(x_train,y_train)"
      ]
    },
    {
      "cell_type": "code",
      "execution_count": 139,
      "metadata": {
        "id": "zIahQx-MD16n"
      },
      "outputs": [],
      "source": [
        "y_pred_unseen = model.predict(df_encoded_unseen)"
      ]
    },
    {
      "cell_type": "code",
      "execution_count": 140,
      "metadata": {
        "id": "X3A5bLGMD14k"
      },
      "outputs": [],
      "source": [
        "a3['Target_variables'] = y_pred_unseen"
      ]
    },
    {
      "cell_type": "code",
      "execution_count": 141,
      "metadata": {
        "id": "-dNDsZd7D12F"
      },
      "outputs": [],
      "source": [
        "a3.to_excel(\"C:/Users/HP/Desktop/Data Engineering/Credit_Risk_Modelling_Using ML/Material_Session 04/Unseen_Dataset.xlsx\",index= False)"
      ]
    },
    {
      "cell_type": "code",
      "execution_count": 142,
      "metadata": {
        "colab": {
          "base_uri": "https://localhost:8080/"
        },
        "id": "8FhPcGROD1zq",
        "outputId": "c4e304b1-e0a6-4c0c-a7e9-cf24cd88704c"
      },
      "outputs": [
        {
          "name": "stdout",
          "output_type": "stream",
          "text": [
            "Total run time of the program - 77.17sec\n"
          ]
        }
      ],
      "source": [
        "# print runtime\n",
        "\n",
        "end_time = time.time()\n",
        "\n",
        "elapsed_time = end_time - start_time\n",
        "print(\"Total run time of the program - \"+str(round(elapsed_time,2))+'sec')"
      ]
    },
    {
      "cell_type": "code",
      "execution_count": null,
      "metadata": {
        "id": "2L0vcuLn5Kp0"
      },
      "outputs": [],
      "source": []
    }
  ],
  "metadata": {
    "colab": {
      "provenance": []
    },
    "kernelspec": {
      "display_name": "Python 3",
      "name": "python3"
    },
    "language_info": {
      "codemirror_mode": {
        "name": "ipython",
        "version": 3
      },
      "file_extension": ".py",
      "mimetype": "text/x-python",
      "name": "python",
      "nbconvert_exporter": "python",
      "pygments_lexer": "ipython3",
      "version": "3.12.2"
    }
  },
  "nbformat": 4,
  "nbformat_minor": 0
}
